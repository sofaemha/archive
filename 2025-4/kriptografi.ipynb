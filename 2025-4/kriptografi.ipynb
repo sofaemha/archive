{
  "nbformat": 4,
  "nbformat_minor": 0,
  "metadata": {
    "colab": {
      "provenance": [],
      "toc_visible": true,
      "authorship_tag": "ABX9TyOQ/Cg5OtYZW9FroV0u69MT",
      "include_colab_link": true
    },
    "kernelspec": {
      "name": "python3",
      "display_name": "Python 3"
    },
    "language_info": {
      "name": "python"
    }
  },
  "cells": [
    {
      "cell_type": "markdown",
      "metadata": {
        "id": "view-in-github",
        "colab_type": "text"
      },
      "source": [
        "<a href=\"https://colab.research.google.com/github/sofaemha/archive/blob/main/2025-4/kriptografi.ipynb\" target=\"_parent\"><img src=\"https://colab.research.google.com/assets/colab-badge.svg\" alt=\"Open In Colab\"/></a>"
      ]
    },
    {
      "cell_type": "markdown",
      "source": [
        "# AES File Locker\n",
        "> Pengaman File Teks Menggunakan AES\n",
        "\n",
        "## Deskripsi\n",
        "\n",
        "AESFileLocker adalah aplikasi Python yang digunakan untuk mengenkripsi dan mendekripsi file  teks menggunakan Advanced Encryption Standard (AES). Aplikasi ini dirancang bagi pengguna yang ingin menyimpan file sensitif secara aman di komputer pribadi."
      ],
      "metadata": {
        "id": "Tv2smg8dMmJk"
      }
    },
    {
      "cell_type": "markdown",
      "source": [
        "## Persiapan Awal"
      ],
      "metadata": {
        "id": "poNW9dvrNESi"
      }
    },
    {
      "cell_type": "markdown",
      "source": [],
      "metadata": {
        "id": "_8gawXshP_eR"
      }
    },
    {
      "cell_type": "markdown",
      "source": [
        "### Step 1\n",
        "\n",
        "Melakukan deklarasi untuk memanggil library bawaan yang digunakan pada aplikasi ini."
      ],
      "metadata": {
        "id": "sFZ8CpvsNG06"
      }
    },
    {
      "cell_type": "code",
      "source": [
        "import os\n",
        "import string\n",
        "import random\n",
        "import platform\n",
        "import shutil as fs\n",
        "import sys as system\n",
        "from datetime import datetime\n",
        "from google.colab import files"
      ],
      "metadata": {
        "id": "UUageyuA4Vn0"
      },
      "execution_count": 1,
      "outputs": []
    },
    {
      "cell_type": "markdown",
      "source": [
        "### Step 2\n",
        "\n",
        "Melakukan deklarasi variabel global untuk menyimpan data secara secara terstruktur."
      ],
      "metadata": {
        "id": "DrRMdPTnNYqA"
      }
    },
    {
      "cell_type": "code",
      "source": [
        "GLOBAL_FILE_LOG = \"log.txt\"\n",
        "GLOBAL_FILE_KEY = \"aes.env\"\n",
        "GLOBAL_DIR_INPUT = \"./input/\"\n",
        "GLOBAL_DIR_OUTPUT = \"./output/\"\n",
        "GLOBAL_DIR_SAMPLE = \"./sample_data/\""
      ],
      "metadata": {
        "id": "_sJmgaeH4XcC"
      },
      "execution_count": 2,
      "outputs": []
    },
    {
      "cell_type": "markdown",
      "source": [
        "### Step 3\n",
        "\n",
        "Melakukan deklarasi fungsi log untuk mencatat proses pengerjaan, dan sebagai pedoman ketika terjadi galat."
      ],
      "metadata": {
        "id": "pvIOVE-XNq6g"
      }
    },
    {
      "cell_type": "code",
      "source": [
        "# function for generating log with message\n",
        "def log(message):\n",
        "  date = datetime.now().strftime(\"%d/%m/%Y.%H:%M:%S\")\n",
        "  message = f\"[{date}] {message}\\n\"\n",
        "  f = open(GLOBAL_FILE_LOG, \"a\")\n",
        "  f.write(message)\n",
        "  f.close()\n",
        "\n",
        "# function for reading log file\n",
        "def log_all():\n",
        "  f = open(GLOBAL_FILE_LOG, \"r\")\n",
        "  print(f.read())\n",
        "  f.close()\n",
        "\n",
        "# function for get last line in log file\n",
        "def log_last():\n",
        "  with open(GLOBAL_FILE_LOG) as f:\n",
        "      for line in f:\n",
        "          pass\n",
        "      last_line = line\n",
        "      print(last_line)\n",
        "      f.close()\n",
        "\n",
        "# function for clear log file content\n",
        "def log_clear():\n",
        "  open(GLOBAL_FILE_LOG, \"w\").close()\n",
        "\n",
        "log(\"Importing all library and create log function.\")\n",
        "log_last()"
      ],
      "metadata": {
        "colab": {
          "base_uri": "https://localhost:8080/"
        },
        "id": "aIV-bSx8ZVLL",
        "outputId": "e0a532bb-2231-4c6e-b270-04f3b6924772"
      },
      "execution_count": 3,
      "outputs": [
        {
          "output_type": "stream",
          "name": "stdout",
          "text": [
            "[24/04/2025.09:15:37] Importing all library and create log function.\n",
            "\n"
          ]
        }
      ]
    },
    {
      "cell_type": "code",
      "source": [
        "log_all()"
      ],
      "metadata": {
        "colab": {
          "base_uri": "https://localhost:8080/"
        },
        "id": "1E_agga3thar",
        "outputId": "435c404c-3a0a-4f7d-8d66-1d124e5e1c04"
      },
      "execution_count": 25,
      "outputs": [
        {
          "output_type": "stream",
          "name": "stdout",
          "text": [
            "[24/04/2025.09:15:37] Importing all library and create log function.\n",
            "[24/04/2025.09:15:40] Installing PyCryptodome.\n",
            "[24/04/2025.09:15:57] Cheking python version.\n",
            "[24/04/2025.09:15:59] Declare all related function.\n",
            "[24/04/2025.09:16:16] Upload file with TXT extention to encrypt.\n",
            "[24/04/2025.09:17:25] Read `input_file` and encode all data into byte.\n",
            "[24/04/2025.09:17:33] Generate random bytes key for encrypting data.\n",
            "[24/04/2025.09:17:48] Store AES key into ENV file extention.\n",
            "[24/04/2025.09:18:08] Create the cipher object based on AES key.\n",
            "[24/04/2025.09:18:45] Encrypt input file data with AES cipher.\n",
            "[24/04/2025.09:19:55] Generate random bytes key for encrypting data.\n",
            "[24/04/2025.09:19:56] Store AES key into ENV file extention.\n",
            "[24/04/2025.09:19:58] Create the cipher object based on AES key.\n",
            "[24/04/2025.09:20:00] Encrypt input file data with AES cipher.\n",
            "[24/04/2025.09:20:07] Encrypt input file data with AES cipher.\n",
            "[24/04/2025.09:20:10] Create the cipher object based on AES key.\n",
            "[24/04/2025.09:20:12] Encrypt input file data with AES cipher.\n",
            "\n"
          ]
        }
      ]
    },
    {
      "cell_type": "markdown",
      "source": [
        "### Step 4\n",
        "\n",
        "Melakukan instalasi PyCryptodome pada sistem."
      ],
      "metadata": {
        "id": "lV7VKWfMOIZN"
      }
    },
    {
      "cell_type": "code",
      "source": [
        "try:\n",
        "  log(\"Installing PyCryptodome.\")\n",
        "  log_last()\n",
        "\n",
        "  !pip install pycryptodome\n",
        "except Exception:\n",
        "  print(Exception)\n",
        "  pass"
      ],
      "metadata": {
        "id": "GozdKz_PWi4b",
        "colab": {
          "base_uri": "https://localhost:8080/"
        },
        "outputId": "1dc9ffbe-8e33-491a-aa0e-da7298a66afe"
      },
      "execution_count": 4,
      "outputs": [
        {
          "output_type": "stream",
          "name": "stdout",
          "text": [
            "[24/04/2025.09:15:40] Installing PyCryptodome.\n",
            "\n",
            "Collecting pycryptodome\n",
            "  Downloading pycryptodome-3.22.0-cp37-abi3-manylinux_2_17_x86_64.manylinux2014_x86_64.whl.metadata (3.4 kB)\n",
            "Downloading pycryptodome-3.22.0-cp37-abi3-manylinux_2_17_x86_64.manylinux2014_x86_64.whl (2.3 MB)\n",
            "\u001b[2K   \u001b[90m━━━━━━━━━━━━━━━━━━━━━━━━━━━━━━━━━━━━━━━━\u001b[0m \u001b[32m2.3/2.3 MB\u001b[0m \u001b[31m24.8 MB/s\u001b[0m eta \u001b[36m0:00:00\u001b[0m\n",
            "\u001b[?25hInstalling collected packages: pycryptodome\n",
            "Successfully installed pycryptodome-3.22.0\n"
          ]
        }
      ]
    },
    {
      "cell_type": "markdown",
      "source": [
        "### Step 5\n",
        "\n",
        "Melakukan deklarasi untuk memanggil library PyCryptodome yang digunakan pada aplikasi ini."
      ],
      "metadata": {
        "id": "sbfIeQB2Rson"
      }
    },
    {
      "cell_type": "code",
      "source": [
        "from Crypto.Cipher import AES\n",
        "from Crypto.Random import get_random_bytes as random_bytes"
      ],
      "metadata": {
        "id": "Qdn-7ITGRT1P"
      },
      "execution_count": 5,
      "outputs": []
    },
    {
      "cell_type": "markdown",
      "source": [],
      "metadata": {
        "id": "OD84sIRDRTgw"
      }
    },
    {
      "cell_type": "markdown",
      "source": [
        "### Step 6\n",
        "\n",
        "Melakukan pengecekan versi Python yang digunakan."
      ],
      "metadata": {
        "id": "H4pxawV_OCv4"
      }
    },
    {
      "cell_type": "code",
      "execution_count": 6,
      "metadata": {
        "colab": {
          "base_uri": "https://localhost:8080/"
        },
        "id": "r2pRzlAtVZD1",
        "outputId": "430df86f-b6f3-425e-af20-961d708f7212"
      },
      "outputs": [
        {
          "output_type": "stream",
          "name": "stdout",
          "text": [
            "[24/04/2025.09:15:57] Cheking python version.\n",
            "\n",
            "3.11.12\n",
            "Python 3.11.12\n"
          ]
        }
      ],
      "source": [
        "try:\n",
        "  log(\"Cheking python version.\")\n",
        "  log_last()\n",
        "\n",
        "  print(platform.python_version())\n",
        "  !python3 --version\n",
        "except Exception:\n",
        "  print(Exception)\n",
        "  pass"
      ]
    },
    {
      "cell_type": "markdown",
      "source": [
        "### Step 7\n",
        "\n",
        "Melakukan deklarasi fungsi."
      ],
      "metadata": {
        "id": "-NBDQJtHOquh"
      }
    },
    {
      "cell_type": "code",
      "source": [
        "log(\"Declare all related function.\")\n",
        "log_last()\n",
        "\n",
        "def check_folder():\n",
        "  folder_input = os.path.isdir(GLOBAL_DIR_INPUT)\n",
        "  if not folder_input:\n",
        "    os.mkdir('input')\n",
        "  folder_output = os.path.isdir(GLOBAL_DIR_OUTPUT)\n",
        "  if not folder_output:\n",
        "    os.mkdir('output')\n",
        "  folder_sample = os.path.isdir(GLOBAL_DIR_SAMPLE)\n",
        "  if folder_sample:\n",
        "    fs.rmtree(GLOBAL_DIR_SAMPLE)\n",
        "\n",
        "# function for generating random id\n",
        "def random_id(size=6, chars=string.ascii_letters):\n",
        "  return ''.join(random.choice(chars) for _ in range(size))\n",
        "\n",
        "# function for user input file txt\n",
        "def input_file_txt():\n",
        "  data = files.upload()\n",
        "  name = next(iter(data))\n",
        "\n",
        "  target = f\"./{name}\"\n",
        "  destination = os.path.join(GLOBAL_DIR_INPUT, os.path.basename(name))\n",
        "  fs.move(target, destination)\n",
        "  return name\n",
        "\n",
        "# function for user output file bin\n",
        "def output_file_bin():\n",
        "  data = files.upload()\n",
        "  name = next(iter(data))\n",
        "\n",
        "  target = f\"./{name}\"\n",
        "  destination = os.path.join(GLOBAL_DIR_OUTPUT, os.path.basename(name))\n",
        "  fs.move(target, destination)\n",
        "  return name\n",
        "\n",
        "# function for storing AES key in ENV\n",
        "def key_store(message):\n",
        "  open(GLOBAL_FILE_KEY, \"w\").close()\n",
        "  message = f'AES=\"{message}\"'\n",
        "  f = open(GLOBAL_FILE_KEY, \"a\")\n",
        "  f.write(message)\n",
        "  f.close()\n",
        "\n",
        "# function for reading AES key in ENV\n",
        "def key_read():\n",
        "  f = open(GLOBAL_FILE_KEY, \"r\")\n",
        "  print(f.read())\n",
        "  f.close()"
      ],
      "metadata": {
        "colab": {
          "base_uri": "https://localhost:8080/"
        },
        "id": "lB42lyAadXK0",
        "outputId": "393906bd-4209-45e3-f758-39806eefd86a"
      },
      "execution_count": 7,
      "outputs": [
        {
          "output_type": "stream",
          "name": "stdout",
          "text": [
            "[24/04/2025.09:15:59] Declare all related function.\n",
            "\n"
          ]
        }
      ]
    },
    {
      "cell_type": "markdown",
      "source": [
        "## Proses Enkripsi"
      ],
      "metadata": {
        "id": "VdgalujyRn6Y"
      }
    },
    {
      "cell_type": "markdown",
      "source": [
        "### User Input"
      ],
      "metadata": {
        "id": "pvGdill7Rx5a"
      }
    },
    {
      "cell_type": "markdown",
      "source": [
        "#### Step 1\n",
        "\n",
        "Menginput file TXT yang ingin di enkripsi."
      ],
      "metadata": {
        "id": "hDGeBTaASLWS"
      }
    },
    {
      "cell_type": "code",
      "source": [
        "try:\n",
        "  log(\"Upload file with TXT extention to encrypt.\")\n",
        "  log_last()\n",
        "\n",
        "  check_folder() # check if global folder exist\n",
        "\n",
        "  filename = input_file_txt() # get input file name\n",
        "  file_to_encrypt = f\"{GLOBAL_DIR_INPUT}{filename}\" # store file path in variable\n",
        "  file_rename = filename.split(\".\")[0] # get file name without extention\n",
        "except Exception:\n",
        "  print(Exception)\n",
        "  pass"
      ],
      "metadata": {
        "colab": {
          "base_uri": "https://localhost:8080/",
          "height": 107
        },
        "id": "hjcQqdHfcJGr",
        "outputId": "952b7d64-e773-43cf-bebf-ace9725176fc"
      },
      "execution_count": 8,
      "outputs": [
        {
          "output_type": "stream",
          "name": "stdout",
          "text": [
            "[24/04/2025.09:16:16] Upload file with TXT extention to encrypt.\n",
            "\n"
          ]
        },
        {
          "output_type": "display_data",
          "data": {
            "text/plain": [
              "<IPython.core.display.HTML object>"
            ],
            "text/html": [
              "\n",
              "     <input type=\"file\" id=\"files-3d9e7f93-2aad-44f8-a813-001d8f6ff910\" name=\"files[]\" multiple disabled\n",
              "        style=\"border:none\" />\n",
              "     <output id=\"result-3d9e7f93-2aad-44f8-a813-001d8f6ff910\">\n",
              "      Upload widget is only available when the cell has been executed in the\n",
              "      current browser session. Please rerun this cell to enable.\n",
              "      </output>\n",
              "      <script>// Copyright 2017 Google LLC\n",
              "//\n",
              "// Licensed under the Apache License, Version 2.0 (the \"License\");\n",
              "// you may not use this file except in compliance with the License.\n",
              "// You may obtain a copy of the License at\n",
              "//\n",
              "//      http://www.apache.org/licenses/LICENSE-2.0\n",
              "//\n",
              "// Unless required by applicable law or agreed to in writing, software\n",
              "// distributed under the License is distributed on an \"AS IS\" BASIS,\n",
              "// WITHOUT WARRANTIES OR CONDITIONS OF ANY KIND, either express or implied.\n",
              "// See the License for the specific language governing permissions and\n",
              "// limitations under the License.\n",
              "\n",
              "/**\n",
              " * @fileoverview Helpers for google.colab Python module.\n",
              " */\n",
              "(function(scope) {\n",
              "function span(text, styleAttributes = {}) {\n",
              "  const element = document.createElement('span');\n",
              "  element.textContent = text;\n",
              "  for (const key of Object.keys(styleAttributes)) {\n",
              "    element.style[key] = styleAttributes[key];\n",
              "  }\n",
              "  return element;\n",
              "}\n",
              "\n",
              "// Max number of bytes which will be uploaded at a time.\n",
              "const MAX_PAYLOAD_SIZE = 100 * 1024;\n",
              "\n",
              "function _uploadFiles(inputId, outputId) {\n",
              "  const steps = uploadFilesStep(inputId, outputId);\n",
              "  const outputElement = document.getElementById(outputId);\n",
              "  // Cache steps on the outputElement to make it available for the next call\n",
              "  // to uploadFilesContinue from Python.\n",
              "  outputElement.steps = steps;\n",
              "\n",
              "  return _uploadFilesContinue(outputId);\n",
              "}\n",
              "\n",
              "// This is roughly an async generator (not supported in the browser yet),\n",
              "// where there are multiple asynchronous steps and the Python side is going\n",
              "// to poll for completion of each step.\n",
              "// This uses a Promise to block the python side on completion of each step,\n",
              "// then passes the result of the previous step as the input to the next step.\n",
              "function _uploadFilesContinue(outputId) {\n",
              "  const outputElement = document.getElementById(outputId);\n",
              "  const steps = outputElement.steps;\n",
              "\n",
              "  const next = steps.next(outputElement.lastPromiseValue);\n",
              "  return Promise.resolve(next.value.promise).then((value) => {\n",
              "    // Cache the last promise value to make it available to the next\n",
              "    // step of the generator.\n",
              "    outputElement.lastPromiseValue = value;\n",
              "    return next.value.response;\n",
              "  });\n",
              "}\n",
              "\n",
              "/**\n",
              " * Generator function which is called between each async step of the upload\n",
              " * process.\n",
              " * @param {string} inputId Element ID of the input file picker element.\n",
              " * @param {string} outputId Element ID of the output display.\n",
              " * @return {!Iterable<!Object>} Iterable of next steps.\n",
              " */\n",
              "function* uploadFilesStep(inputId, outputId) {\n",
              "  const inputElement = document.getElementById(inputId);\n",
              "  inputElement.disabled = false;\n",
              "\n",
              "  const outputElement = document.getElementById(outputId);\n",
              "  outputElement.innerHTML = '';\n",
              "\n",
              "  const pickedPromise = new Promise((resolve) => {\n",
              "    inputElement.addEventListener('change', (e) => {\n",
              "      resolve(e.target.files);\n",
              "    });\n",
              "  });\n",
              "\n",
              "  const cancel = document.createElement('button');\n",
              "  inputElement.parentElement.appendChild(cancel);\n",
              "  cancel.textContent = 'Cancel upload';\n",
              "  const cancelPromise = new Promise((resolve) => {\n",
              "    cancel.onclick = () => {\n",
              "      resolve(null);\n",
              "    };\n",
              "  });\n",
              "\n",
              "  // Wait for the user to pick the files.\n",
              "  const files = yield {\n",
              "    promise: Promise.race([pickedPromise, cancelPromise]),\n",
              "    response: {\n",
              "      action: 'starting',\n",
              "    }\n",
              "  };\n",
              "\n",
              "  cancel.remove();\n",
              "\n",
              "  // Disable the input element since further picks are not allowed.\n",
              "  inputElement.disabled = true;\n",
              "\n",
              "  if (!files) {\n",
              "    return {\n",
              "      response: {\n",
              "        action: 'complete',\n",
              "      }\n",
              "    };\n",
              "  }\n",
              "\n",
              "  for (const file of files) {\n",
              "    const li = document.createElement('li');\n",
              "    li.append(span(file.name, {fontWeight: 'bold'}));\n",
              "    li.append(span(\n",
              "        `(${file.type || 'n/a'}) - ${file.size} bytes, ` +\n",
              "        `last modified: ${\n",
              "            file.lastModifiedDate ? file.lastModifiedDate.toLocaleDateString() :\n",
              "                                    'n/a'} - `));\n",
              "    const percent = span('0% done');\n",
              "    li.appendChild(percent);\n",
              "\n",
              "    outputElement.appendChild(li);\n",
              "\n",
              "    const fileDataPromise = new Promise((resolve) => {\n",
              "      const reader = new FileReader();\n",
              "      reader.onload = (e) => {\n",
              "        resolve(e.target.result);\n",
              "      };\n",
              "      reader.readAsArrayBuffer(file);\n",
              "    });\n",
              "    // Wait for the data to be ready.\n",
              "    let fileData = yield {\n",
              "      promise: fileDataPromise,\n",
              "      response: {\n",
              "        action: 'continue',\n",
              "      }\n",
              "    };\n",
              "\n",
              "    // Use a chunked sending to avoid message size limits. See b/62115660.\n",
              "    let position = 0;\n",
              "    do {\n",
              "      const length = Math.min(fileData.byteLength - position, MAX_PAYLOAD_SIZE);\n",
              "      const chunk = new Uint8Array(fileData, position, length);\n",
              "      position += length;\n",
              "\n",
              "      const base64 = btoa(String.fromCharCode.apply(null, chunk));\n",
              "      yield {\n",
              "        response: {\n",
              "          action: 'append',\n",
              "          file: file.name,\n",
              "          data: base64,\n",
              "        },\n",
              "      };\n",
              "\n",
              "      let percentDone = fileData.byteLength === 0 ?\n",
              "          100 :\n",
              "          Math.round((position / fileData.byteLength) * 100);\n",
              "      percent.textContent = `${percentDone}% done`;\n",
              "\n",
              "    } while (position < fileData.byteLength);\n",
              "  }\n",
              "\n",
              "  // All done.\n",
              "  yield {\n",
              "    response: {\n",
              "      action: 'complete',\n",
              "    }\n",
              "  };\n",
              "}\n",
              "\n",
              "scope.google = scope.google || {};\n",
              "scope.google.colab = scope.google.colab || {};\n",
              "scope.google.colab._files = {\n",
              "  _uploadFiles,\n",
              "  _uploadFilesContinue,\n",
              "};\n",
              "})(self);\n",
              "</script> "
            ]
          },
          "metadata": {}
        },
        {
          "output_type": "stream",
          "name": "stdout",
          "text": [
            "Saving rahasia.txt to rahasia.txt\n"
          ]
        }
      ]
    },
    {
      "cell_type": "code",
      "source": [
        "!cat {GLOBAL_DIR_INPUT}{filename}"
      ],
      "metadata": {
        "colab": {
          "base_uri": "https://localhost:8080/"
        },
        "id": "fYc4wzmWWAFv",
        "outputId": "ca82f3d3-5723-4fa8-c2c7-326e94e7f3a8"
      },
      "execution_count": 35,
      "outputs": [
        {
          "output_type": "stream",
          "name": "stdout",
          "text": [
            "rahasia ini sangat baru"
          ]
        }
      ]
    },
    {
      "cell_type": "markdown",
      "source": [
        "### Auto Play"
      ],
      "metadata": {
        "id": "aimNeoiCR9OK"
      }
    },
    {
      "cell_type": "markdown",
      "source": [
        "#### Step 2\n",
        "Membaca input file dan mengubah isi data menjadi bit."
      ],
      "metadata": {
        "id": "A3zcbt_sSQ-6"
      }
    },
    {
      "cell_type": "code",
      "source": [
        "try:\n",
        "  log(\"Read `input_file` and encode all data into byte.\")\n",
        "  log_last()\n",
        "\n",
        "  input_file = open(file_to_encrypt, 'r') # open input file in read mode\n",
        "  data = input_file.read().encode() # store encoded `input_file` into variable data\n",
        "  input_file.close() # close input file\n",
        "  print(data)\n",
        "except Exception:\n",
        "  print(Exception)\n",
        "  pass"
      ],
      "metadata": {
        "colab": {
          "base_uri": "https://localhost:8080/"
        },
        "id": "U19Jfh2myOoz",
        "outputId": "d23dded1-3027-459b-acd1-456ff4f3309e"
      },
      "execution_count": 9,
      "outputs": [
        {
          "output_type": "stream",
          "name": "stdout",
          "text": [
            "[24/04/2025.09:17:25] Read `input_file` and encode all data into byte.\n",
            "\n",
            "b'rahasia ini sangat baru'\n"
          ]
        }
      ]
    },
    {
      "cell_type": "markdown",
      "source": [
        "#### Step 3\n",
        "Membuat kunci AES dengan bit acak."
      ],
      "metadata": {
        "id": "wLLC0Kw5J8M3"
      }
    },
    {
      "cell_type": "code",
      "source": [
        "try:\n",
        "  log(\"Generate random bytes key for encrypting data.\")\n",
        "  log_last()\n",
        "\n",
        "  aes_key = random_bytes(16)\n",
        "  print(aes_key)\n",
        "except Exception:\n",
        "  print(Exception)\n",
        "  pass\n"
      ],
      "metadata": {
        "colab": {
          "base_uri": "https://localhost:8080/"
        },
        "id": "xUS5AdNc2FTC",
        "outputId": "b35295a2-4cca-4c57-ae94-5709a5630f70"
      },
      "execution_count": 16,
      "outputs": [
        {
          "output_type": "stream",
          "name": "stdout",
          "text": [
            "[24/04/2025.09:19:55] Generate random bytes key for encrypting data.\n",
            "\n",
            "b\"7\\x8c\\xff\\xbb\\xa7q\\x0f\\xdc\\x8f#o\\x82\\x97'\\xbcu\"\n"
          ]
        }
      ]
    },
    {
      "cell_type": "markdown",
      "source": [
        "#### Step 4\n",
        "Menyimpan kunci AES ke dalam file dengan ekstensi ENV."
      ],
      "metadata": {
        "id": "P28kv-YkKwFc"
      }
    },
    {
      "cell_type": "code",
      "source": [
        "try:\n",
        "  log(\"Store AES key into ENV file extention.\")\n",
        "  log_last()\n",
        "\n",
        "  key_store(aes_key) # store AES key in ENV file\n",
        "  key_read() # read AES key in ENV file\n",
        "except Exception:\n",
        "  print(Exception)\n",
        "  pass"
      ],
      "metadata": {
        "colab": {
          "base_uri": "https://localhost:8080/"
        },
        "id": "-LV8b6YMFSJj",
        "outputId": "13aa4e5d-85df-4d6d-b757-c3446e204670"
      },
      "execution_count": 17,
      "outputs": [
        {
          "output_type": "stream",
          "name": "stdout",
          "text": [
            "[24/04/2025.09:19:56] Store AES key into ENV file extention.\n",
            "\n",
            "AES=\"b\"7\\x8c\\xff\\xbb\\xa7q\\x0f\\xdc\\x8f#o\\x82\\x97'\\xbcu\"\"\n"
          ]
        }
      ]
    },
    {
      "cell_type": "markdown",
      "source": [
        "#### Step 5\n",
        "Membuat cipher sebagai gembok file dengan kunci AES dan mode OCB."
      ],
      "metadata": {
        "id": "g9NLSdf5Nw-X"
      }
    },
    {
      "cell_type": "code",
      "source": [
        "try:\n",
        "  log(\"Create the cipher object based on AES key.\")\n",
        "  log_last()\n",
        "\n",
        "  cipher = AES.new(aes_key, AES.MODE_OCB) # generate AES cipher using AES key\n",
        "  print(cipher)\n",
        "except Exception:\n",
        "  print(Exception)\n",
        "  pass\n"
      ],
      "metadata": {
        "id": "zjJldgWmWqNr",
        "colab": {
          "base_uri": "https://localhost:8080/"
        },
        "outputId": "c77504c7-5958-4162-e29e-7f23e29c24df"
      },
      "execution_count": 21,
      "outputs": [
        {
          "output_type": "stream",
          "name": "stdout",
          "text": [
            "[24/04/2025.09:20:10] Create the cipher object based on AES key.\n",
            "\n",
            "<Crypto.Cipher._mode_ocb.OcbMode object at 0x7d67a8dd8ad0>\n"
          ]
        }
      ]
    },
    {
      "cell_type": "markdown",
      "source": [
        "#### Step 6\n",
        "Melakukan enkripsi data dengan kunci AES dan cipher ke dalam file berekstensi BIN."
      ],
      "metadata": {
        "id": "z62KUrQGOX_B"
      }
    },
    {
      "cell_type": "code",
      "source": [
        "try:\n",
        "  log(\"Encrypt input file data with AES cipher.\")\n",
        "  log_last()\n",
        "\n",
        "  # encrypt data with cipher and digest\n",
        "  ciphertext, tag = cipher.encrypt_and_digest(data)\n",
        "  assert len(cipher.nonce) == 15\n",
        "\n",
        "  # store encrypted data into file with BIN extention\n",
        "  open(f\"{GLOBAL_DIR_OUTPUT}{file_rename}.bin\", \"w\").close()\n",
        "  with open(f\"{GLOBAL_DIR_OUTPUT}{file_rename}.bin\", \"wb\") as f:\n",
        "      f.write(tag)\n",
        "      f.write(cipher.nonce)\n",
        "      f.write(ciphertext)\n",
        "      f.close()\n",
        "except Exception:\n",
        "  print(Exception)\n",
        "  pass"
      ],
      "metadata": {
        "colab": {
          "base_uri": "https://localhost:8080/"
        },
        "id": "6GNSLFl6GD07",
        "outputId": "e1e9cae7-b886-40b9-e17b-22dc2589c38d"
      },
      "execution_count": 22,
      "outputs": [
        {
          "output_type": "stream",
          "name": "stdout",
          "text": [
            "[24/04/2025.09:20:12] Encrypt input file data with AES cipher.\n",
            "\n"
          ]
        }
      ]
    },
    {
      "cell_type": "markdown",
      "source": [
        "#### Step 7\n",
        "Mengunduh file BIN yang sudah terenkripsi beserta kuncinya jika diperlukan."
      ],
      "metadata": {
        "id": "LoJvNmKyO3Wg"
      }
    },
    {
      "cell_type": "code",
      "source": [
        "try:\n",
        "  log(\"Download encrypted data.\")\n",
        "  log_last()\n",
        "\n",
        "  files.download(f\"{GLOBAL_DIR_OUTPUT}{file_rename}.bin\")\n",
        "except Exception:\n",
        "  print(Exception)\n",
        "  pass"
      ],
      "metadata": {
        "colab": {
          "base_uri": "https://localhost:8080/",
          "height": 52
        },
        "id": "C8qTGqkvUrwD",
        "outputId": "663c4859-d9b8-4dd5-a167-c8a6b20fdeb5"
      },
      "execution_count": null,
      "outputs": [
        {
          "output_type": "stream",
          "name": "stdout",
          "text": [
            "[23/04/2025.11:05:36] Download encrypted data.\n",
            "\n"
          ]
        },
        {
          "output_type": "display_data",
          "data": {
            "text/plain": [
              "<IPython.core.display.Javascript object>"
            ],
            "application/javascript": [
              "\n",
              "    async function download(id, filename, size) {\n",
              "      if (!google.colab.kernel.accessAllowed) {\n",
              "        return;\n",
              "      }\n",
              "      const div = document.createElement('div');\n",
              "      const label = document.createElement('label');\n",
              "      label.textContent = `Downloading \"${filename}\": `;\n",
              "      div.appendChild(label);\n",
              "      const progress = document.createElement('progress');\n",
              "      progress.max = size;\n",
              "      div.appendChild(progress);\n",
              "      document.body.appendChild(div);\n",
              "\n",
              "      const buffers = [];\n",
              "      let downloaded = 0;\n",
              "\n",
              "      const channel = await google.colab.kernel.comms.open(id);\n",
              "      // Send a message to notify the kernel that we're ready.\n",
              "      channel.send({})\n",
              "\n",
              "      for await (const message of channel.messages) {\n",
              "        // Send a message to notify the kernel that we're ready.\n",
              "        channel.send({})\n",
              "        if (message.buffers) {\n",
              "          for (const buffer of message.buffers) {\n",
              "            buffers.push(buffer);\n",
              "            downloaded += buffer.byteLength;\n",
              "            progress.value = downloaded;\n",
              "          }\n",
              "        }\n",
              "      }\n",
              "      const blob = new Blob(buffers, {type: 'application/binary'});\n",
              "      const a = document.createElement('a');\n",
              "      a.href = window.URL.createObjectURL(blob);\n",
              "      a.download = filename;\n",
              "      div.appendChild(a);\n",
              "      a.click();\n",
              "      div.remove();\n",
              "    }\n",
              "  "
            ]
          },
          "metadata": {}
        },
        {
          "output_type": "display_data",
          "data": {
            "text/plain": [
              "<IPython.core.display.Javascript object>"
            ],
            "application/javascript": [
              "download(\"download_ab84847d-8bdc-43ba-9268-24092d17b47c\", \"rahasia.bin\", 56)"
            ]
          },
          "metadata": {}
        }
      ]
    },
    {
      "cell_type": "markdown",
      "source": [
        "## Proses Dekripsi"
      ],
      "metadata": {
        "id": "ivWMiJSlVL-j"
      }
    },
    {
      "cell_type": "markdown",
      "source": [
        "### User Input"
      ],
      "metadata": {
        "id": "SlDV0mlfcka4"
      }
    },
    {
      "cell_type": "markdown",
      "source": [
        "#### Step 1\n",
        "\n",
        "Mengunggah file enkripsi AES dengan ekstensi BIN untuk dilakukan dekripsi."
      ],
      "metadata": {
        "id": "wZHbo16EcmeH"
      }
    },
    {
      "cell_type": "code",
      "source": [
        "try:\n",
        "  log(\"Upload file with BIN extention to decrypt.\")\n",
        "  log_last()\n",
        "\n",
        "  check_folder() # check if global folder exist\n",
        "\n",
        "  filename = output_file_bin() # get input file name\n",
        "  file_to_decrypt = f\"{GLOBAL_DIR_OUTPUT}{filename}\" # store file path in variable\n",
        "  file_rename = filename.split(\".\")[0] # get file name without extention\n",
        "except Exception:\n",
        "  print(Exception)\n",
        "  pass"
      ],
      "metadata": {
        "colab": {
          "base_uri": "https://localhost:8080/",
          "height": 90
        },
        "id": "HWaXJUf8ZJ8K",
        "outputId": "1ecc1ed1-2b90-4cd3-d176-376778ef1a8d"
      },
      "execution_count": null,
      "outputs": [
        {
          "output_type": "display_data",
          "data": {
            "text/plain": [
              "<IPython.core.display.HTML object>"
            ],
            "text/html": [
              "\n",
              "     <input type=\"file\" id=\"files-02f06757-1e57-4bf7-b0b9-0fc1a0582de4\" name=\"files[]\" multiple disabled\n",
              "        style=\"border:none\" />\n",
              "     <output id=\"result-02f06757-1e57-4bf7-b0b9-0fc1a0582de4\">\n",
              "      Upload widget is only available when the cell has been executed in the\n",
              "      current browser session. Please rerun this cell to enable.\n",
              "      </output>\n",
              "      <script>// Copyright 2017 Google LLC\n",
              "//\n",
              "// Licensed under the Apache License, Version 2.0 (the \"License\");\n",
              "// you may not use this file except in compliance with the License.\n",
              "// You may obtain a copy of the License at\n",
              "//\n",
              "//      http://www.apache.org/licenses/LICENSE-2.0\n",
              "//\n",
              "// Unless required by applicable law or agreed to in writing, software\n",
              "// distributed under the License is distributed on an \"AS IS\" BASIS,\n",
              "// WITHOUT WARRANTIES OR CONDITIONS OF ANY KIND, either express or implied.\n",
              "// See the License for the specific language governing permissions and\n",
              "// limitations under the License.\n",
              "\n",
              "/**\n",
              " * @fileoverview Helpers for google.colab Python module.\n",
              " */\n",
              "(function(scope) {\n",
              "function span(text, styleAttributes = {}) {\n",
              "  const element = document.createElement('span');\n",
              "  element.textContent = text;\n",
              "  for (const key of Object.keys(styleAttributes)) {\n",
              "    element.style[key] = styleAttributes[key];\n",
              "  }\n",
              "  return element;\n",
              "}\n",
              "\n",
              "// Max number of bytes which will be uploaded at a time.\n",
              "const MAX_PAYLOAD_SIZE = 100 * 1024;\n",
              "\n",
              "function _uploadFiles(inputId, outputId) {\n",
              "  const steps = uploadFilesStep(inputId, outputId);\n",
              "  const outputElement = document.getElementById(outputId);\n",
              "  // Cache steps on the outputElement to make it available for the next call\n",
              "  // to uploadFilesContinue from Python.\n",
              "  outputElement.steps = steps;\n",
              "\n",
              "  return _uploadFilesContinue(outputId);\n",
              "}\n",
              "\n",
              "// This is roughly an async generator (not supported in the browser yet),\n",
              "// where there are multiple asynchronous steps and the Python side is going\n",
              "// to poll for completion of each step.\n",
              "// This uses a Promise to block the python side on completion of each step,\n",
              "// then passes the result of the previous step as the input to the next step.\n",
              "function _uploadFilesContinue(outputId) {\n",
              "  const outputElement = document.getElementById(outputId);\n",
              "  const steps = outputElement.steps;\n",
              "\n",
              "  const next = steps.next(outputElement.lastPromiseValue);\n",
              "  return Promise.resolve(next.value.promise).then((value) => {\n",
              "    // Cache the last promise value to make it available to the next\n",
              "    // step of the generator.\n",
              "    outputElement.lastPromiseValue = value;\n",
              "    return next.value.response;\n",
              "  });\n",
              "}\n",
              "\n",
              "/**\n",
              " * Generator function which is called between each async step of the upload\n",
              " * process.\n",
              " * @param {string} inputId Element ID of the input file picker element.\n",
              " * @param {string} outputId Element ID of the output display.\n",
              " * @return {!Iterable<!Object>} Iterable of next steps.\n",
              " */\n",
              "function* uploadFilesStep(inputId, outputId) {\n",
              "  const inputElement = document.getElementById(inputId);\n",
              "  inputElement.disabled = false;\n",
              "\n",
              "  const outputElement = document.getElementById(outputId);\n",
              "  outputElement.innerHTML = '';\n",
              "\n",
              "  const pickedPromise = new Promise((resolve) => {\n",
              "    inputElement.addEventListener('change', (e) => {\n",
              "      resolve(e.target.files);\n",
              "    });\n",
              "  });\n",
              "\n",
              "  const cancel = document.createElement('button');\n",
              "  inputElement.parentElement.appendChild(cancel);\n",
              "  cancel.textContent = 'Cancel upload';\n",
              "  const cancelPromise = new Promise((resolve) => {\n",
              "    cancel.onclick = () => {\n",
              "      resolve(null);\n",
              "    };\n",
              "  });\n",
              "\n",
              "  // Wait for the user to pick the files.\n",
              "  const files = yield {\n",
              "    promise: Promise.race([pickedPromise, cancelPromise]),\n",
              "    response: {\n",
              "      action: 'starting',\n",
              "    }\n",
              "  };\n",
              "\n",
              "  cancel.remove();\n",
              "\n",
              "  // Disable the input element since further picks are not allowed.\n",
              "  inputElement.disabled = true;\n",
              "\n",
              "  if (!files) {\n",
              "    return {\n",
              "      response: {\n",
              "        action: 'complete',\n",
              "      }\n",
              "    };\n",
              "  }\n",
              "\n",
              "  for (const file of files) {\n",
              "    const li = document.createElement('li');\n",
              "    li.append(span(file.name, {fontWeight: 'bold'}));\n",
              "    li.append(span(\n",
              "        `(${file.type || 'n/a'}) - ${file.size} bytes, ` +\n",
              "        `last modified: ${\n",
              "            file.lastModifiedDate ? file.lastModifiedDate.toLocaleDateString() :\n",
              "                                    'n/a'} - `));\n",
              "    const percent = span('0% done');\n",
              "    li.appendChild(percent);\n",
              "\n",
              "    outputElement.appendChild(li);\n",
              "\n",
              "    const fileDataPromise = new Promise((resolve) => {\n",
              "      const reader = new FileReader();\n",
              "      reader.onload = (e) => {\n",
              "        resolve(e.target.result);\n",
              "      };\n",
              "      reader.readAsArrayBuffer(file);\n",
              "    });\n",
              "    // Wait for the data to be ready.\n",
              "    let fileData = yield {\n",
              "      promise: fileDataPromise,\n",
              "      response: {\n",
              "        action: 'continue',\n",
              "      }\n",
              "    };\n",
              "\n",
              "    // Use a chunked sending to avoid message size limits. See b/62115660.\n",
              "    let position = 0;\n",
              "    do {\n",
              "      const length = Math.min(fileData.byteLength - position, MAX_PAYLOAD_SIZE);\n",
              "      const chunk = new Uint8Array(fileData, position, length);\n",
              "      position += length;\n",
              "\n",
              "      const base64 = btoa(String.fromCharCode.apply(null, chunk));\n",
              "      yield {\n",
              "        response: {\n",
              "          action: 'append',\n",
              "          file: file.name,\n",
              "          data: base64,\n",
              "        },\n",
              "      };\n",
              "\n",
              "      let percentDone = fileData.byteLength === 0 ?\n",
              "          100 :\n",
              "          Math.round((position / fileData.byteLength) * 100);\n",
              "      percent.textContent = `${percentDone}% done`;\n",
              "\n",
              "    } while (position < fileData.byteLength);\n",
              "  }\n",
              "\n",
              "  // All done.\n",
              "  yield {\n",
              "    response: {\n",
              "      action: 'complete',\n",
              "    }\n",
              "  };\n",
              "}\n",
              "\n",
              "scope.google = scope.google || {};\n",
              "scope.google.colab = scope.google.colab || {};\n",
              "scope.google.colab._files = {\n",
              "  _uploadFiles,\n",
              "  _uploadFilesContinue,\n",
              "};\n",
              "})(self);\n",
              "</script> "
            ]
          },
          "metadata": {}
        },
        {
          "output_type": "stream",
          "name": "stdout",
          "text": [
            "Saving encrypted.bin to encrypted (2).bin\n",
            "saved file encrypted (2).bin\n"
          ]
        }
      ]
    },
    {
      "cell_type": "markdown",
      "source": [
        "#### Step 2\n",
        "\n",
        "Melakukan dekripsi file AES dengan ekstensi BIN."
      ],
      "metadata": {
        "id": "p973Xg-beiZv"
      }
    },
    {
      "cell_type": "code",
      "source": [
        "with open(file_to_decrypt, \"rb\") as f:\n",
        "    tag = f.read(16)\n",
        "    nonce = f.read(15)\n",
        "    ciphertext = f.read()\n",
        "\n",
        "cipher = AES.new(aes_key, AES.MODE_OCB, nonce=nonce)\n",
        "try:\n",
        "    message = cipher.decrypt_and_verify(ciphertext, tag)\n",
        "except ValueError:\n",
        "    print(\"The message was modified!\")\n",
        "    system.exit(1)\n",
        "\n",
        "print(f'Message:\"{message.decode()}\"')"
      ],
      "metadata": {
        "colab": {
          "base_uri": "https://localhost:8080/"
        },
        "id": "dZcQ93HkZP5L",
        "outputId": "912b47e8-db7f-4aa6-b907-197e82559e07"
      },
      "execution_count": 23,
      "outputs": [
        {
          "output_type": "stream",
          "name": "stdout",
          "text": [
            "Message:\"rahasia ini sangat baru\"\n"
          ]
        }
      ]
    }
  ]
}