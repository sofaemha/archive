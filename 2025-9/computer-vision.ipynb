{
  "cells": [
    {
      "cell_type": "markdown",
      "metadata": {
        "id": "view-in-github",
        "colab_type": "text"
      },
      "source": [
        "<a href=\"https://colab.research.google.com/github/sofaemha/archive/blob/main/2025-9/computer-vision.ipynb\" target=\"_parent\"><img src=\"https://colab.research.google.com/assets/colab-badge.svg\" alt=\"Open In Colab\"/></a>"
      ]
    },
    {
      "cell_type": "code",
      "source": [
        "import subprocess\n",
        "\n",
        "kaggle_dataset = 'https://www.kaggle.com/datasets/fakhrealam9537/leaf-disease-segmentation-dataset'\n",
        "kaggle_train_dataset = ''\n",
        "kaggle_test_dataset = ''\n",
        "train_directory = 'train'\n",
        "test_directory = 'test'\n",
        "\n",
        "def shell(command):\n",
        "  print(subprocess.run(command, capture_output=True, text=True).stdout)\n",
        "\n",
        "def kaggle_train():\n",
        "  # shell(['wget', kaggle_train_dataset, '-O', 'train.zip'])\n",
        "  # shell(['unzip', 'train.zip'])\n",
        "  # shell(['mv', 'aug_data', 'train'])\n",
        "  shell(['rm', '-rf', 'train.zip'])\n",
        "\n",
        "def kaggle_test():\n",
        "  # shell(['wget', kaggle_test_dataset, '-O', 'test.zip'])\n",
        "  # shell(['unzip', 'test.zip'])\n",
        "  # shell(['mv', 'data', 'test'])\n",
        "  shell(['rm', '-rf', 'test.zip'])\n",
        "\n",
        "def system():\n",
        "  # shell(['rm', '-rf', 'sample_data'])\n",
        "  shell(['ls', '-la'])"
      ],
      "metadata": {
        "id": "ZdFvkHh0YawS"
      },
      "execution_count": 54,
      "outputs": []
    },
    {
      "cell_type": "code",
      "source": [
        "# kaggle_train()\n",
        "# kaggle_test()\n",
        "system()"
      ],
      "metadata": {
        "id": "fBxGDKMOdoqw",
        "outputId": "7b88071c-a8dc-489d-c70b-881f213973cd",
        "colab": {
          "base_uri": "https://localhost:8080/"
        }
      },
      "execution_count": 57,
      "outputs": [
        {
          "output_type": "stream",
          "name": "stdout",
          "text": [
            "total 28\n",
            "drwxr-xr-x 1 root root 4096 Sep 28 08:58 .\n",
            "drwxr-xr-x 1 root root 4096 Sep 28 08:12 ..\n",
            "drwxr-xr-x 4 root root 4096 Sep 25 13:36 .config\n",
            "drwxr-xr-x 2 root root 4096 Sep 28 08:23 .ipynb_checkpoints\n",
            "drwxr-xr-x 4 root root 4096 Aug 13  2021 test\n",
            "drwxr-xr-x 4 root root 4096 Aug 13  2021 train\n",
            "\n"
          ]
        }
      ]
    },
    {
      "cell_type": "code",
      "source": [
        "import os\n",
        "import cv2\n",
        "import numpy as np\n",
        "import matplotlib.pyplot as plt\n",
        "from tqdm import tqdm"
      ],
      "metadata": {
        "id": "hxQ4gvgMZUSA"
      },
      "execution_count": 58,
      "outputs": []
    },
    {
      "cell_type": "code",
      "source": [
        "train_image_path = os.path.join(train_directory, 'images')\n",
        "train_mask_path = os.path.join(train_directory, 'masks')\n",
        "test_image_path = os.path.join(test_directory, 'images')\n",
        "test_mask_path = os.path.join(test_directory, 'masks')\n",
        "\n",
        "print(train_image_path, train_mask_path, test_image_path, test_mask_path)"
      ],
      "metadata": {
        "id": "6j5AWjxci-gZ",
        "outputId": "7b018268-340c-49f9-88c3-0220e5fb83ea",
        "colab": {
          "base_uri": "https://localhost:8080/"
        }
      },
      "execution_count": 64,
      "outputs": [
        {
          "output_type": "stream",
          "name": "stdout",
          "text": [
            "train/images train/masks test/images test/masks\n"
          ]
        }
      ]
    },
    {
      "cell_type": "code",
      "source": [
        "train_image_data = len(os.listdir(train_image_path))\n",
        "train_mask_data = len(os.listdir(train_mask_path))\n",
        "test_image_data = len(os.listdir(test_image_path))\n",
        "test_mask_data = len(os.listdir(test_mask_path))\n",
        "\n",
        "print(train_image_data, train_mask_data, test_image_data, test_mask_data)"
      ],
      "metadata": {
        "id": "08OWn035jSf8",
        "outputId": "ff35f4ab-f0d1-40ce-f390-acaee4d3a853",
        "colab": {
          "base_uri": "https://localhost:8080/"
        }
      },
      "execution_count": 65,
      "outputs": [
        {
          "output_type": "stream",
          "name": "stdout",
          "text": [
            "2940 2940 588 588\n"
          ]
        }
      ]
    },
    {
      "cell_type": "code",
      "source": [
        "figure_data_labels = ['Train Images', 'Train Masks', 'Test Images', 'Test Masks']\n",
        "figure_data_values = [train_image_data, train_mask_data, test_image_data, test_mask_data]\n",
        "\n",
        "print(figure_data_labels, figure_data_values)"
      ],
      "metadata": {
        "id": "-v7fGkjjkO48",
        "outputId": "81afcfd2-511b-4c57-f21b-94ba22ad9f59",
        "colab": {
          "base_uri": "https://localhost:8080/"
        }
      },
      "execution_count": 66,
      "outputs": [
        {
          "output_type": "stream",
          "name": "stdout",
          "text": [
            "['Train Images', 'Train Masks', 'Test Images', 'Test Masks'] [2940, 2940, 588, 588]\n"
          ]
        }
      ]
    },
    {
      "cell_type": "code",
      "source": [
        "plt.figure(figsize=(8, 5))\n",
        "plt.bar(figure_data_labels, figure_data_values, color=['salmon', 'darkorange', 'lime', 'darkcyan'])\n",
        "plt.title('Dataset')\n",
        "plt.ylabel('Jumlah File')\n",
        "plt.xticks(rotation=15)\n",
        "plt.tight_layout()\n",
        "plt.grid(axis='y', linestyle='--', alpha=0.5)\n",
        "plt.show()"
      ],
      "metadata": {
        "id": "_H0ZdkTjkfl0",
        "outputId": "c7201166-a9a1-42d8-a741-6987f2a48fd4",
        "colab": {
          "base_uri": "https://localhost:8080/",
          "height": 507
        }
      },
      "execution_count": 96,
      "outputs": [
        {
          "output_type": "display_data",
          "data": {
            "text/plain": [
              "<Figure size 800x500 with 1 Axes>"
            ],
            "image/png": "[encoded data removed]"
          },
          "metadata": {}
        }
      ]
    }
  ],
  "metadata": {
    "colab": {
      "name": "Welcome To Colab",
      "provenance": [],
      "include_colab_link": true
    },
    "kernelspec": {
      "display_name": "Python 3",
      "name": "python3"
    }
  },
  "nbformat": 4,
  "nbformat_minor": 0
}