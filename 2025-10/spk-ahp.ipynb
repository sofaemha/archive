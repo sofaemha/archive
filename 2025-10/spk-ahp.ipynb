{
  "cells": [
    {
      "cell_type": "markdown",
      "metadata": {
        "id": "view-in-github",
        "colab_type": "text"
      },
      "source": [
        "<a href=\"https://colab.research.google.com/github/sofaemha/archive/blob/main/2025-10/spk-ahp.ipynb\" target=\"_parent\"><img src=\"https://colab.research.google.com/assets/colab-badge.svg\" alt=\"Open In Colab\"/></a>"
      ]
    },
    {
      "cell_type": "markdown",
      "source": [
        "## Import"
      ],
      "metadata": {
        "id": "i9pONaCU-eQA"
      }
    },
    {
      "cell_type": "code",
      "source": [
        "from rich import print\n",
        "from rich.panel import Panel\n",
        "from rich.padding import Padding\n",
        "from rich.text import Text\n",
        "from rich.table import Table\n",
        "from rich.prompt import Prompt\n",
        "import numpy as np"
      ],
      "metadata": {
        "id": "rfMxkq3bMLro"
      },
      "execution_count": 64,
      "outputs": []
    },
    {
      "cell_type": "markdown",
      "source": [
        "## System Function"
      ],
      "metadata": {
        "id": "cMaTjWZn-gk2"
      }
    },
    {
      "cell_type": "code",
      "source": [
        "def panel(text, title=\"\", subtitle=\"\", justify=\"center\"):\n",
        "  print(Panel(Text(text, justify=justify), title=title, subtitle=subtitle))"
      ],
      "metadata": {
        "id": "s_fs9Zj6gvlz"
      },
      "execution_count": 35,
      "outputs": []
    },
    {
      "cell_type": "code",
      "source": [
        "def space(size):\n",
        "  print(Padding(\"\", size))"
      ],
      "metadata": {
        "id": "kUxg7XUkkizd"
      },
      "execution_count": 46,
      "outputs": []
    },
    {
      "cell_type": "code",
      "source": [
        "def transpose(array):\n",
        "    matrix = array.reshape(-1, 1)\n",
        "    row, column = matrix.shape\n",
        "    return matrix, row, column"
      ],
      "metadata": {
        "id": "Qm8vJp_QDVa_"
      },
      "execution_count": 166,
      "outputs": []
    },
    {
      "cell_type": "code",
      "source": [
        "def table_custom(scol, srow, array, title=\"\", tcol=\"\", trow=\"\", icol=True, irow=True, index=1):\n",
        "  table = Table(show_header=True)\n",
        "  table.add_column(title, justify=\"center\", no_wrap=True)\n",
        "\n",
        "  for i in range(scol):\n",
        "    col_label = f\"{tcol}{i+index}\" if icol else f\"{tcol}\"\n",
        "    table.add_column(col_label, justify=\"center\")\n",
        "\n",
        "  for i in range(srow):\n",
        "    row_label = f\"{trow}{i+index}\" if irow else f\"{trow}\"\n",
        "    row_data = [f\"{array[i][j]:.7f}\".rstrip('0').rstrip('.') for j in range(scol)]\n",
        "    table.add_row(row_label, *row_data)\n",
        "\n",
        "  print(table)"
      ],
      "metadata": {
        "id": "n0dYPdCC7Xjs"
      },
      "execution_count": 197,
      "outputs": []
    },
    {
      "cell_type": "code",
      "source": [
        "def table(size, array, title=\"\", tcol=\"\", trow=\"\", index=True):\n",
        "  table = Table(show_header=True)\n",
        "  table.add_column(title, justify=\"center\", no_wrap=True)\n",
        "\n",
        "  for i in range(size):\n",
        "    col_label = f\"{tcol}{i+1}\" if index else f\"{tcol}\"\n",
        "    table.add_column(col_label, justify=\"center\")\n",
        "\n",
        "  for i in range(size):\n",
        "    row_label = f\"{trow}{i+1}\" if index else f\"{trow}\"\n",
        "    row_data = [f\"{array[i][j]:.7f}\".rstrip('0').rstrip('.') for j in range(size)]\n",
        "    table.add_row(row_label, *row_data)\n",
        "\n",
        "  print(table)"
      ],
      "metadata": {
        "id": "Xggrt6yRyQu7"
      },
      "execution_count": 126,
      "outputs": []
    },
    {
      "cell_type": "markdown",
      "source": [
        "---"
      ],
      "metadata": {
        "id": "t-uE_Whikq4s"
      }
    },
    {
      "cell_type": "markdown",
      "source": [
        "## Main Function"
      ],
      "metadata": {
        "id": "U8ccL1xC-jo9"
      }
    },
    {
      "cell_type": "code",
      "source": [
        "def ss1(n, normalized):\n",
        "    print(\"\\nNormalized Pairwise Matrix:\\n\")\n",
        "    table(n, normalized, \"Criteria\", \"C\", \"C\")\n"
      ],
      "metadata": {
        "id": "AwzdsBKlBK0_"
      },
      "execution_count": 162,
      "outputs": []
    },
    {
      "cell_type": "code",
      "source": [
        "def ss2(sum_of_normalized):\n",
        "    print(\"\\nSum of Normalized Matrix:\\n\")\n",
        "    matrix, row, column = transpose(sum_of_normalized)\n",
        "    table_custom(column, row, matrix, \"Criteria\", \"Value\", \"C\", False)"
      ],
      "metadata": {
        "id": "mdso5ZWqBQwn"
      },
      "execution_count": 179,
      "outputs": []
    },
    {
      "cell_type": "code",
      "source": [
        "def ss3(weights):\n",
        "    print(\"\\nAverage of Normalized Matrix (Priority Vector / Criteria Weights):\\n\")\n",
        "    matrix, row, column = transpose(weights)\n",
        "    table_custom(column, row, matrix, \"Criteria\", \"Priority\", \"C\", False)"
      ],
      "metadata": {
        "id": "lHtGudfhCyTg"
      },
      "execution_count": 180,
      "outputs": []
    },
    {
      "cell_type": "code",
      "source": [
        "def ss4(product):\n",
        "    print(\"\\nCalculate Matrix Product:\\n\")\n",
        "    matrix, row, column = transpose(product)\n",
        "    table_custom(column, row, matrix, \"Criteria\", \"Product\", \"C\", False)"
      ],
      "metadata": {
        "id": "ulzUI88rElQA"
      },
      "execution_count": 181,
      "outputs": []
    },
    {
      "cell_type": "code",
      "source": [
        "def ss5(cm):\n",
        "    print(\"\\nCalculate Consistency Measure (CM):\\n\")\n",
        "    matrix, row, column = transpose(cm)\n",
        "    table_custom(column, row, matrix, \"Criteria\", \"CM\", \"C\", False)"
      ],
      "metadata": {
        "id": "TNr7ECamEvno"
      },
      "execution_count": 182,
      "outputs": []
    },
    {
      "cell_type": "code",
      "source": [
        "def ss6(ri_values):\n",
        "    print(\"\\nOrdo Matrix Table of Ratio Index (RI):\\n\")\n",
        "    ri_array = np.array(list(ri_values.values()))\n",
        "    matrix, row, column = transpose(ri_array)\n",
        "    table_custom(column, row, matrix, \"Ordo\", \"Ratio\", icol=False, index=0)"
      ],
      "metadata": {
        "id": "vQanZVrgHhmr"
      },
      "execution_count": 199,
      "outputs": []
    },
    {
      "cell_type": "markdown",
      "source": [
        "---"
      ],
      "metadata": {
        "id": "KYT7l9NgEcOo"
      }
    },
    {
      "cell_type": "code",
      "source": [
        "def normalize_matrix(matrix):\n",
        "    \"\"\"Normalize the matrix by dividing each element by the column sum.\"\"\"\n",
        "    col_sums = np.sum(matrix, axis=0)\n",
        "    return matrix / col_sums"
      ],
      "metadata": {
        "id": "162XrUIEd76k"
      },
      "execution_count": 12,
      "outputs": []
    },
    {
      "cell_type": "code",
      "source": [
        "def calculate_priority_vector(normalized_matrix):\n",
        "    # Calculate the priority vector by averaging the rows.\n",
        "    return np.mean(normalized_matrix, axis=1)"
      ],
      "metadata": {
        "id": "FxIclgLSd9yC"
      },
      "execution_count": 13,
      "outputs": []
    },
    {
      "cell_type": "code",
      "source": [
        "def calculate_lambda_max(matrix, priority_vector):\n",
        "    # Calculate the maximum eigenvalue (lambda_max).\n",
        "    product = np.dot(matrix, priority_vector)\n",
        "    ss4(product)\n",
        "    space(1)\n",
        "\n",
        "    cm = product / priority_vector\n",
        "    ss5(cm)\n",
        "    space(1)\n",
        "\n",
        "    return np.mean(cm)"
      ],
      "metadata": {
        "id": "8E4C0201d_Xa"
      },
      "execution_count": 175,
      "outputs": []
    },
    {
      "cell_type": "code",
      "source": [
        "def calculate_consistency_index(lambda_max, n):\n",
        "    # Calculate the Consistency Index (CI).\n",
        "    return (lambda_max - n) / (n - 1)"
      ],
      "metadata": {
        "id": "yisO4e6leFLF"
      },
      "execution_count": 15,
      "outputs": []
    },
    {
      "cell_type": "code",
      "source": [
        "def get_random_index(n):\n",
        "    # Get the Random Index (RI) for a given matrix size n.\n",
        "    ri_values = {\n",
        "        1: 0.00, 2: 0.00, 3: 0.58, 4: 0.90, 5: 1.12,\n",
        "        6: 1.24, 7: 1.32, 8: 1.41, 9: 1.45, 10: 1.49\n",
        "    }\n",
        "\n",
        "    ss6(ri_values)\n",
        "    space(1)\n",
        "\n",
        "    return ri_values.get(n, 1.49)  # Default to 1.49 for n > 10"
      ],
      "metadata": {
        "id": "YZ8TEZZxeHN6"
      },
      "execution_count": 194,
      "outputs": []
    },
    {
      "cell_type": "code",
      "source": [
        "def calculate_consistency_ratio(ci, ri):\n",
        "    # Calculate the Consistency Ratio (CR).\n",
        "    return ci / ri"
      ],
      "metadata": {
        "id": "4cC2aYG4eI9N"
      },
      "execution_count": 17,
      "outputs": []
    },
    {
      "cell_type": "markdown",
      "source": [
        "---"
      ],
      "metadata": {
        "id": "zXhAM08_BJ6X"
      }
    },
    {
      "cell_type": "code",
      "source": [
        "def ahp(pairwise_matrix):\n",
        "    # Perform AHP calculation on a pairwise comparison matrix.\n",
        "    n = pairwise_matrix.shape[0]\n",
        "\n",
        "    # Normalize the matrix\n",
        "    normalized = normalize_matrix(pairwise_matrix)\n",
        "    ss1(n, normalized)\n",
        "    space(1)\n",
        "\n",
        "    sum_of_normalized = np.sum(normalized, axis=1)\n",
        "    ss2(sum_of_normalized)\n",
        "    space(1)\n",
        "\n",
        "    # Calculate priority vector (weights)\n",
        "    weights = calculate_priority_vector(normalized)\n",
        "    ss3(weights)\n",
        "    space(1)\n",
        "\n",
        "    # Calculate lambda_max\n",
        "    lambda_max = calculate_lambda_max(pairwise_matrix, weights)\n",
        "    print(\"\\nAverage of Consistency Measure (Lambda Max):\\n\")\n",
        "    print(lambda_max)\n",
        "    space(1)\n",
        "\n",
        "    # Calculate CI\n",
        "    ci = calculate_consistency_index(lambda_max, n)\n",
        "    print(\"\\nCalculate Consistency Index (CI):\\n\")\n",
        "    print(ci)\n",
        "    space(1)\n",
        "\n",
        "    # Get RI\n",
        "    ri = get_random_index(n)\n",
        "    print(\"\\nCalculate Ratio Index (RI):\\n\")\n",
        "    print(ri)\n",
        "    space(1)\n",
        "\n",
        "    # Calculate CR\n",
        "    cr = calculate_consistency_ratio(ci, ri)\n",
        "    print(\"\\nCalculate Consistency Ratio (CR):\\n\")\n",
        "    print(cr)\n",
        "    space(1)\n",
        "\n",
        "    return weights, cr"
      ],
      "metadata": {
        "id": "3NsHORRlNGKY"
      },
      "execution_count": 188,
      "outputs": []
    },
    {
      "cell_type": "markdown",
      "source": [
        "---"
      ],
      "metadata": {
        "id": "ZBENMfZ5v6DP"
      }
    },
    {
      "cell_type": "markdown",
      "source": [
        "## Additional Function"
      ],
      "metadata": {
        "id": "ZdcK1peJ-rMN"
      }
    },
    {
      "cell_type": "code",
      "source": [
        "def s1(number_criteria, criteria_matrix):\n",
        "  # Fill the matrix\n",
        "  print(\"\\nEnter the pairwise comparison values for criteria (use Saaty scale: 1-9, and reciprocals)\")\n",
        "  space(1)\n",
        "\n",
        "  for i in range(number_criteria):\n",
        "      for j in range(i + 1, number_criteria):\n",
        "          value = float(Prompt.ask(f\"\\nCompare criterion {i+1} to {j+1}\", choices=[\"1\", \"2\", \"3\", \"4\", \"5\", \"6\", \"7\", \"8\", \"9\"]))\n",
        "          criteria_matrix[i, j] = value\n",
        "          criteria_matrix[j, i] = 1 / value\n",
        "      criteria_matrix[i, i] = 1.0  # Diagonal is 1\n"
      ],
      "metadata": {
        "id": "h2TEeVxav7Qf"
      },
      "execution_count": 68,
      "outputs": []
    },
    {
      "cell_type": "code",
      "source": [
        "def s2(number_criteria, criteria_matrix):\n",
        "  print(\"\\nCriteria Pairwise Matrix:\\n\")\n",
        "  table(number_criteria, criteria_matrix, \"Criteria\", \"C\", \"C\")"
      ],
      "metadata": {
        "id": "9MQi7TdYwYmg"
      },
      "execution_count": 184,
      "outputs": []
    },
    {
      "cell_type": "code",
      "source": [
        "def s3(criteria_cr):\n",
        "  if criteria_cr > 0.1:\n",
        "      print(\"Warning: CR > 0.1, the matrix may be inconsistent.\")\n",
        "  else:\n",
        "      print(\"Info: CR < 0.1, the matrix is consistent.\")"
      ],
      "metadata": {
        "id": "p7d7kduxJ7Nl"
      },
      "execution_count": 209,
      "outputs": []
    },
    {
      "cell_type": "code",
      "source": [
        "def s4(c, number_alternatives, alt_matrix):\n",
        "  print(f\"\\nPairwise comparisons for alternatives under criterion {c+1}\\n\")\n",
        "  for i in range(number_alternatives):\n",
        "      for j in range(i + 1, number_alternatives):\n",
        "          value = float(Prompt.ask(f\"\\nCompare alternative {i+1} to {j+1} under criterion {c+1}\", choices=[\"1\", \"2\", \"3\", \"4\", \"5\", \"6\", \"7\", \"8\", \"9\"]))\n",
        "          alt_matrix[i, j] = value\n",
        "          alt_matrix[j, i] = 1 / value\n",
        "      alt_matrix[i, i] = 1.0\n"
      ],
      "metadata": {
        "id": "kG19fDo3LJg-"
      },
      "execution_count": 212,
      "outputs": []
    },
    {
      "cell_type": "markdown",
      "source": [
        "---"
      ],
      "metadata": {
        "id": "oojxu4QZn9Iz"
      }
    },
    {
      "cell_type": "code",
      "source": [
        "def main():\n",
        "  panel(\"\\nAnalytical Hierarchy Process\\nCalculator\\n\")\n",
        "  space(1)\n",
        "\n",
        "  # Input number of criteria\n",
        "  number_criteria = int(Prompt.ask(\"Enter the number of criteria\"))\n",
        "  space(1)\n",
        "\n",
        "  # Initialize pairwise comparison matrix for criteria\n",
        "  criteria_matrix = np.zeros((number_criteria, number_criteria))\n",
        "\n",
        "  s1(number_criteria, criteria_matrix)\n",
        "  space(1)\n",
        "\n",
        "  panel(\"\\nPairwise Matrix\\n\")\n",
        "  space(1)\n",
        "\n",
        "  s2(number_criteria, criteria_matrix)\n",
        "  space(1)\n",
        "\n",
        "  # Calculate criteria weights\n",
        "  criteria_weights, criteria_cr = ahp(criteria_matrix)\n",
        "\n",
        "  print(f\"\\nConsistency Ratio (CR): {criteria_cr:.4f}\\n\")\n",
        "  s3(criteria_cr)\n",
        "  space(1)\n",
        "  print(\"\\n====================================================================================================\")\n",
        "\n",
        "  # Input number of alternatives\n",
        "  number_alternatives = int(Prompt.ask(\"Enter the number of alternatives\"))\n",
        "  space(1)\n",
        "\n",
        "  # For each criterion, create a pairwise matrix for alternatives\n",
        "  alt_matrix = np.zeros((number_alternatives, number_alternatives))\n",
        "  alternative_matrices = []\n",
        "  alternative_weights = []\n",
        "\n",
        "  panel(\"\\nPairwise Matrix\\n\")\n",
        "  space(1)\n",
        "\n",
        "  for c in range(number_criteria):\n",
        "      s4(c, number_alternatives, alt_matrix)\n",
        "\n",
        "      print(f\"\\nAlternative Matrix for Criterion {c+1}:\")\n",
        "      print(alt_matrix)\n",
        "\n",
        "      alt_weights, alt_cr = ahp(alt_matrix)\n",
        "      alternative_matrices.append(alt_matrix)\n",
        "      alternative_weights.append(alt_weights)\n",
        "\n",
        "      print(f\"\\nAlternative Weights for Criterion {c+1}:\")\n",
        "      for i, w in enumerate(alt_weights, 1):\n",
        "          print(f\"Alternative {i}: {w:.4f}\")\n",
        "      print(f\"\\nConsistency Ratio (CR): {alt_cr:.4f}\")\n",
        "      if alt_cr > 0.1:\n",
        "          print(\"Warning: CR > 0.1, the matrix may be inconsistent.\")\n",
        "      else:\n",
        "          print(\"Info: CR < 0.1, the matrix is consistent.\")\n"
      ],
      "metadata": {
        "id": "KHnN3DJZhmN-"
      },
      "execution_count": 216,
      "outputs": []
    },
    {
      "cell_type": "code",
      "source": [
        "def fn():\n",
        "\n",
        "    # Calculate overall scores\n",
        "    overall_scores = np.zeros(num_alternatives)\n",
        "    for a in range(num_alternatives):\n",
        "        for c in range(num_criteria):\n",
        "            overall_scores[a] += criteria_weights[c] * alternative_weights[c][a]\n",
        "\n",
        "    print(\"\\nOverall Scores:\")\n",
        "    for i, score in enumerate(overall_scores, 1):\n",
        "        print(f\"Alternative {i}: {score:.4f}\")\n",
        "\n",
        "    # Rank the alternatives\n",
        "    ranked = np.argsort(overall_scores)[::-1]\n",
        "    print(\"\\nRanking:\")\n",
        "    for rank, idx in enumerate(ranked, 1):\n",
        "        print(f\"Rank {rank}: Alternative {idx+1} (Score: {overall_scores[idx]:.4f})\")"
      ],
      "metadata": {
        "id": "ZGQMylCsNLew"
      },
      "execution_count": 52,
      "outputs": []
    },
    {
      "cell_type": "markdown",
      "source": [
        "## Execute"
      ],
      "metadata": {
        "id": "u5ss4gEY-cTv"
      }
    },
    {
      "cell_type": "code",
      "source": [
        "if __name__ == \"__main__\":\n",
        "    main()"
      ],
      "metadata": {
        "id": "cpp_wg0wNQkP",
        "outputId": "a1cf1522-3071-4ea2-8445-7bf412d86919",
        "colab": {
          "base_uri": "https://localhost:8080/",
          "height": 1000
        }
      },
      "execution_count": null,
      "outputs": [
        {
          "output_type": "display_data",
          "data": {
            "text/plain": [
              "╭─────────────────────────────────────────────────────────────────────────────────────────────────────────────────╮\n",
              "│                                                                                                                 │\n",
              "│                                          Analytical Hierarchy Process                                           │\n",
              "│                                                   Calculator                                                    │\n",
              "│                                                                                                                 │\n",
              "╰─────────────────────────────────────────────────────────────────────────────────────────────────────────────────╯\n"
            ],
            "text/html": [
              "<pre style=\"white-space:pre;overflow-x:auto;line-height:normal;font-family:Menlo,'DejaVu Sans Mono',consolas,'Courier New',monospace\">╭─────────────────────────────────────────────────────────────────────────────────────────────────────────────────╮\n",
              "│                                                                                                                 │\n",
              "│                                          Analytical Hierarchy Process                                           │\n",
              "│                                                   Calculator                                                    │\n",
              "│                                                                                                                 │\n",
              "╰─────────────────────────────────────────────────────────────────────────────────────────────────────────────────╯\n",
              "</pre>\n"
            ]
          },
          "metadata": {}
        },
        {
          "output_type": "display_data",
          "data": {
            "text/plain": [
              "                                                                                                                   \n",
              "                                                                                                                   \n",
              "                                                                                                                   \n"
            ],
            "text/html": [
              "<pre style=\"white-space:pre;overflow-x:auto;line-height:normal;font-family:Menlo,'DejaVu Sans Mono',consolas,'Courier New',monospace\">                                                                                                                   \n",
              "                                                                                                                   \n",
              "                                                                                                                   \n",
              "</pre>\n"
            ]
          },
          "metadata": {}
        },
        {
          "output_type": "display_data",
          "data": {
            "text/plain": [
              "Enter the number of criteria: "
            ],
            "text/html": [
              "<pre style=\"white-space:pre;overflow-x:auto;line-height:normal;font-family:Menlo,'DejaVu Sans Mono',consolas,'Courier New',monospace\">Enter the number of criteria: </pre>\n"
            ]
          },
          "metadata": {}
        },
        {
          "name": "stdout",
          "output_type": "stream",
          "text": [
            "4\n"
          ]
        },
        {
          "output_type": "display_data",
          "data": {
            "text/plain": [
              "                                                                                                                   \n",
              "                                                                                                                   \n",
              "                                                                                                                   \n"
            ],
            "text/html": [
              "<pre style=\"white-space:pre;overflow-x:auto;line-height:normal;font-family:Menlo,'DejaVu Sans Mono',consolas,'Courier New',monospace\">                                                                                                                   \n",
              "                                                                                                                   \n",
              "                                                                                                                   \n",
              "</pre>\n"
            ]
          },
          "metadata": {}
        },
        {
          "output_type": "display_data",
          "data": {
            "text/plain": [
              "\n",
              "Enter the pairwise comparison values for criteria \u001b[1m(\u001b[0muse Saaty scale: \u001b[1;36m1\u001b[0m-\u001b[1;36m9\u001b[0m, and reciprocals\u001b[1m)\u001b[0m\n"
            ],
            "text/html": [
              "<pre style=\"white-space:pre;overflow-x:auto;line-height:normal;font-family:Menlo,'DejaVu Sans Mono',consolas,'Courier New',monospace\">\n",
              "Enter the pairwise comparison values for criteria <span style=\"font-weight: bold\">(</span>use Saaty scale: <span style=\"color: #008080; text-decoration-color: #008080; font-weight: bold\">1</span>-<span style=\"color: #008080; text-decoration-color: #008080; font-weight: bold\">9</span>, and reciprocals<span style=\"font-weight: bold\">)</span>\n",
              "</pre>\n"
            ]
          },
          "metadata": {}
        },
        {
          "output_type": "display_data",
          "data": {
            "text/plain": [
              "                                                                                                                   \n",
              "                                                                                                                   \n",
              "                                                                                                                   \n"
            ],
            "text/html": [
              "<pre style=\"white-space:pre;overflow-x:auto;line-height:normal;font-family:Menlo,'DejaVu Sans Mono',consolas,'Courier New',monospace\">                                                                                                                   \n",
              "                                                                                                                   \n",
              "                                                                                                                   \n",
              "</pre>\n"
            ]
          },
          "metadata": {}
        },
        {
          "output_type": "display_data",
          "data": {
            "text/plain": [
              "\n",
              "Compare criterion 1 to 2 \u001b[1;35m[1/2/3/4/5/6/7/8/9]\u001b[0m: "
            ],
            "text/html": [
              "<pre style=\"white-space:pre;overflow-x:auto;line-height:normal;font-family:Menlo,'DejaVu Sans Mono',consolas,'Courier New',monospace\">\n",
              "Compare criterion 1 to 2 <span style=\"color: #800080; text-decoration-color: #800080; font-weight: bold\">[1/2/3/4/5/6/7/8/9]</span>: </pre>\n"
            ]
          },
          "metadata": {}
        },
        {
          "name": "stdout",
          "output_type": "stream",
          "text": [
            "1\n"
          ]
        },
        {
          "output_type": "display_data",
          "data": {
            "text/plain": [
              "\n",
              "Compare criterion 1 to 3 \u001b[1;35m[1/2/3/4/5/6/7/8/9]\u001b[0m: "
            ],
            "text/html": [
              "<pre style=\"white-space:pre;overflow-x:auto;line-height:normal;font-family:Menlo,'DejaVu Sans Mono',consolas,'Courier New',monospace\">\n",
              "Compare criterion 1 to 3 <span style=\"color: #800080; text-decoration-color: #800080; font-weight: bold\">[1/2/3/4/5/6/7/8/9]</span>: </pre>\n"
            ]
          },
          "metadata": {}
        },
        {
          "name": "stdout",
          "output_type": "stream",
          "text": [
            "2\n"
          ]
        },
        {
          "output_type": "display_data",
          "data": {
            "text/plain": [
              "\n",
              "Compare criterion 1 to 4 \u001b[1;35m[1/2/3/4/5/6/7/8/9]\u001b[0m: "
            ],
            "text/html": [
              "<pre style=\"white-space:pre;overflow-x:auto;line-height:normal;font-family:Menlo,'DejaVu Sans Mono',consolas,'Courier New',monospace\">\n",
              "Compare criterion 1 to 4 <span style=\"color: #800080; text-decoration-color: #800080; font-weight: bold\">[1/2/3/4/5/6/7/8/9]</span>: </pre>\n"
            ]
          },
          "metadata": {}
        },
        {
          "name": "stdout",
          "output_type": "stream",
          "text": [
            "3\n"
          ]
        },
        {
          "output_type": "display_data",
          "data": {
            "text/plain": [
              "\n",
              "Compare criterion 2 to 3 \u001b[1;35m[1/2/3/4/5/6/7/8/9]\u001b[0m: "
            ],
            "text/html": [
              "<pre style=\"white-space:pre;overflow-x:auto;line-height:normal;font-family:Menlo,'DejaVu Sans Mono',consolas,'Courier New',monospace\">\n",
              "Compare criterion 2 to 3 <span style=\"color: #800080; text-decoration-color: #800080; font-weight: bold\">[1/2/3/4/5/6/7/8/9]</span>: </pre>\n"
            ]
          },
          "metadata": {}
        },
        {
          "name": "stdout",
          "output_type": "stream",
          "text": [
            "4\n"
          ]
        },
        {
          "output_type": "display_data",
          "data": {
            "text/plain": [
              "\n",
              "Compare criterion 2 to 4 \u001b[1;35m[1/2/3/4/5/6/7/8/9]\u001b[0m: "
            ],
            "text/html": [
              "<pre style=\"white-space:pre;overflow-x:auto;line-height:normal;font-family:Menlo,'DejaVu Sans Mono',consolas,'Courier New',monospace\">\n",
              "Compare criterion 2 to 4 <span style=\"color: #800080; text-decoration-color: #800080; font-weight: bold\">[1/2/3/4/5/6/7/8/9]</span>: </pre>\n"
            ]
          },
          "metadata": {}
        },
        {
          "name": "stdout",
          "output_type": "stream",
          "text": [
            "5\n"
          ]
        },
        {
          "output_type": "display_data",
          "data": {
            "text/plain": [
              "\n",
              "Compare criterion 3 to 4 \u001b[1;35m[1/2/3/4/5/6/7/8/9]\u001b[0m: "
            ],
            "text/html": [
              "<pre style=\"white-space:pre;overflow-x:auto;line-height:normal;font-family:Menlo,'DejaVu Sans Mono',consolas,'Courier New',monospace\">\n",
              "Compare criterion 3 to 4 <span style=\"color: #800080; text-decoration-color: #800080; font-weight: bold\">[1/2/3/4/5/6/7/8/9]</span>: </pre>\n"
            ]
          },
          "metadata": {}
        },
        {
          "name": "stdout",
          "output_type": "stream",
          "text": [
            "6\n"
          ]
        },
        {
          "output_type": "display_data",
          "data": {
            "text/plain": [
              "                                                                                                                   \n",
              "                                                                                                                   \n",
              "                                                                                                                   \n"
            ],
            "text/html": [
              "<pre style=\"white-space:pre;overflow-x:auto;line-height:normal;font-family:Menlo,'DejaVu Sans Mono',consolas,'Courier New',monospace\">                                                                                                                   \n",
              "                                                                                                                   \n",
              "                                                                                                                   \n",
              "</pre>\n"
            ]
          },
          "metadata": {}
        },
        {
          "output_type": "display_data",
          "data": {
            "text/plain": [
              "╭─────────────────────────────────────────────────────────────────────────────────────────────────────────────────╮\n",
              "│                                                                                                                 │\n",
              "│                                                 Pairwise Matrix                                                 │\n",
              "│                                                                                                                 │\n",
              "╰─────────────────────────────────────────────────────────────────────────────────────────────────────────────────╯\n"
            ],
            "text/html": [
              "<pre style=\"white-space:pre;overflow-x:auto;line-height:normal;font-family:Menlo,'DejaVu Sans Mono',consolas,'Courier New',monospace\">╭─────────────────────────────────────────────────────────────────────────────────────────────────────────────────╮\n",
              "│                                                                                                                 │\n",
              "│                                                 Pairwise Matrix                                                 │\n",
              "│                                                                                                                 │\n",
              "╰─────────────────────────────────────────────────────────────────────────────────────────────────────────────────╯\n",
              "</pre>\n"
            ]
          },
          "metadata": {}
        },
        {
          "output_type": "display_data",
          "data": {
            "text/plain": [
              "                                                                                                                   \n",
              "                                                                                                                   \n",
              "                                                                                                                   \n"
            ],
            "text/html": [
              "<pre style=\"white-space:pre;overflow-x:auto;line-height:normal;font-family:Menlo,'DejaVu Sans Mono',consolas,'Courier New',monospace\">                                                                                                                   \n",
              "                                                                                                                   \n",
              "                                                                                                                   \n",
              "</pre>\n"
            ]
          },
          "metadata": {}
        },
        {
          "output_type": "display_data",
          "data": {
            "text/plain": [
              "\n",
              "Criteria Pairwise Matrix:\n",
              "\n"
            ],
            "text/html": [
              "<pre style=\"white-space:pre;overflow-x:auto;line-height:normal;font-family:Menlo,'DejaVu Sans Mono',consolas,'Courier New',monospace\">\n",
              "Criteria Pairwise Matrix:\n",
              "\n",
              "</pre>\n"
            ]
          },
          "metadata": {}
        },
        {
          "output_type": "display_data",
          "data": {
            "text/plain": [
              "┏━━━━━━━━━━┳━━━━━━━━━━━┳━━━━━━┳━━━━━━━━━━━┳━━━━┓\n",
              "┃\u001b[1m \u001b[0m\u001b[1mCriteria\u001b[0m\u001b[1m \u001b[0m┃\u001b[1m \u001b[0m\u001b[1m   C1    \u001b[0m\u001b[1m \u001b[0m┃\u001b[1m \u001b[0m\u001b[1m C2 \u001b[0m\u001b[1m \u001b[0m┃\u001b[1m \u001b[0m\u001b[1m   C3    \u001b[0m\u001b[1m \u001b[0m┃\u001b[1m \u001b[0m\u001b[1mC4\u001b[0m\u001b[1m \u001b[0m┃\n",
              "┡━━━━━━━━━━╇━━━━━━━━━━━╇━━━━━━╇━━━━━━━━━━━╇━━━━┩\n",
              "│    C1    │     1     │  1   │     2     │ 3  │\n",
              "│    C2    │     1     │  1   │     4     │ 5  │\n",
              "│    C3    │    0.5    │ 0.25 │     1     │ 6  │\n",
              "│    C4    │ 0.3333333 │ 0.2  │ 0.1666667 │ 1  │\n",
              "└──────────┴───────────┴──────┴───────────┴────┘\n"
            ],
            "text/html": [
              "<pre style=\"white-space:pre;overflow-x:auto;line-height:normal;font-family:Menlo,'DejaVu Sans Mono',consolas,'Courier New',monospace\">┏━━━━━━━━━━┳━━━━━━━━━━━┳━━━━━━┳━━━━━━━━━━━┳━━━━┓\n",
              "┃<span style=\"font-weight: bold\"> Criteria </span>┃<span style=\"font-weight: bold\">    C1     </span>┃<span style=\"font-weight: bold\">  C2  </span>┃<span style=\"font-weight: bold\">    C3     </span>┃<span style=\"font-weight: bold\"> C4 </span>┃\n",
              "┡━━━━━━━━━━╇━━━━━━━━━━━╇━━━━━━╇━━━━━━━━━━━╇━━━━┩\n",
              "│    C1    │     1     │  1   │     2     │ 3  │\n",
              "│    C2    │     1     │  1   │     4     │ 5  │\n",
              "│    C3    │    0.5    │ 0.25 │     1     │ 6  │\n",
              "│    C4    │ 0.3333333 │ 0.2  │ 0.1666667 │ 1  │\n",
              "└──────────┴───────────┴──────┴───────────┴────┘\n",
              "</pre>\n"
            ]
          },
          "metadata": {}
        },
        {
          "output_type": "display_data",
          "data": {
            "text/plain": [
              "                                                                                                                   \n",
              "                                                                                                                   \n",
              "                                                                                                                   \n"
            ],
            "text/html": [
              "<pre style=\"white-space:pre;overflow-x:auto;line-height:normal;font-family:Menlo,'DejaVu Sans Mono',consolas,'Courier New',monospace\">                                                                                                                   \n",
              "                                                                                                                   \n",
              "                                                                                                                   \n",
              "</pre>\n"
            ]
          },
          "metadata": {}
        },
        {
          "output_type": "display_data",
          "data": {
            "text/plain": [
              "\n",
              "Normalized Pairwise Matrix:\n",
              "\n"
            ],
            "text/html": [
              "<pre style=\"white-space:pre;overflow-x:auto;line-height:normal;font-family:Menlo,'DejaVu Sans Mono',consolas,'Courier New',monospace\">\n",
              "Normalized Pairwise Matrix:\n",
              "\n",
              "</pre>\n"
            ]
          },
          "metadata": {}
        },
        {
          "output_type": "display_data",
          "data": {
            "text/plain": [
              "┏━━━━━━━━━━┳━━━━━━━━━━━┳━━━━━━━━━━━┳━━━━━━━━━━━┳━━━━━━━━━━━┓\n",
              "┃\u001b[1m \u001b[0m\u001b[1mCriteria\u001b[0m\u001b[1m \u001b[0m┃\u001b[1m \u001b[0m\u001b[1m   C1    \u001b[0m\u001b[1m \u001b[0m┃\u001b[1m \u001b[0m\u001b[1m   C2    \u001b[0m\u001b[1m \u001b[0m┃\u001b[1m \u001b[0m\u001b[1m   C3    \u001b[0m\u001b[1m \u001b[0m┃\u001b[1m \u001b[0m\u001b[1m   C4    \u001b[0m\u001b[1m \u001b[0m┃\n",
              "┡━━━━━━━━━━╇━━━━━━━━━━━╇━━━━━━━━━━━╇━━━━━━━━━━━╇━━━━━━━━━━━┩\n",
              "│    C1    │ 0.3529412 │ 0.4081633 │ 0.2790698 │    0.2    │\n",
              "│    C2    │ 0.3529412 │ 0.4081633 │ 0.5581395 │ 0.3333333 │\n",
              "│    C3    │ 0.1764706 │ 0.1020408 │ 0.1395349 │    0.4    │\n",
              "│    C4    │ 0.1176471 │ 0.0816327 │ 0.0232558 │ 0.0666667 │\n",
              "└──────────┴───────────┴───────────┴───────────┴───────────┘\n"
            ],
            "text/html": [
              "<pre style=\"white-space:pre;overflow-x:auto;line-height:normal;font-family:Menlo,'DejaVu Sans Mono',consolas,'Courier New',monospace\">┏━━━━━━━━━━┳━━━━━━━━━━━┳━━━━━━━━━━━┳━━━━━━━━━━━┳━━━━━━━━━━━┓\n",
              "┃<span style=\"font-weight: bold\"> Criteria </span>┃<span style=\"font-weight: bold\">    C1     </span>┃<span style=\"font-weight: bold\">    C2     </span>┃<span style=\"font-weight: bold\">    C3     </span>┃<span style=\"font-weight: bold\">    C4     </span>┃\n",
              "┡━━━━━━━━━━╇━━━━━━━━━━━╇━━━━━━━━━━━╇━━━━━━━━━━━╇━━━━━━━━━━━┩\n",
              "│    C1    │ 0.3529412 │ 0.4081633 │ 0.2790698 │    0.2    │\n",
              "│    C2    │ 0.3529412 │ 0.4081633 │ 0.5581395 │ 0.3333333 │\n",
              "│    C3    │ 0.1764706 │ 0.1020408 │ 0.1395349 │    0.4    │\n",
              "│    C4    │ 0.1176471 │ 0.0816327 │ 0.0232558 │ 0.0666667 │\n",
              "└──────────┴───────────┴───────────┴───────────┴───────────┘\n",
              "</pre>\n"
            ]
          },
          "metadata": {}
        },
        {
          "output_type": "display_data",
          "data": {
            "text/plain": [
              "                                                                                                                   \n",
              "                                                                                                                   \n",
              "                                                                                                                   \n"
            ],
            "text/html": [
              "<pre style=\"white-space:pre;overflow-x:auto;line-height:normal;font-family:Menlo,'DejaVu Sans Mono',consolas,'Courier New',monospace\">                                                                                                                   \n",
              "                                                                                                                   \n",
              "                                                                                                                   \n",
              "</pre>\n"
            ]
          },
          "metadata": {}
        },
        {
          "output_type": "display_data",
          "data": {
            "text/plain": [
              "\n",
              "Sum of Normalized Matrix:\n",
              "\n"
            ],
            "text/html": [
              "<pre style=\"white-space:pre;overflow-x:auto;line-height:normal;font-family:Menlo,'DejaVu Sans Mono',consolas,'Courier New',monospace\">\n",
              "Sum of Normalized Matrix:\n",
              "\n",
              "</pre>\n"
            ]
          },
          "metadata": {}
        },
        {
          "output_type": "display_data",
          "data": {
            "text/plain": [
              "┏━━━━━━━━━━┳━━━━━━━━━━━┓\n",
              "┃\u001b[1m \u001b[0m\u001b[1mCriteria\u001b[0m\u001b[1m \u001b[0m┃\u001b[1m \u001b[0m\u001b[1m  Value  \u001b[0m\u001b[1m \u001b[0m┃\n",
              "┡━━━━━━━━━━╇━━━━━━━━━━━┩\n",
              "│    C1    │ 1.2401742 │\n",
              "│    C2    │ 1.6525773 │\n",
              "│    C3    │ 0.8180463 │\n",
              "│    C4    │ 0.2892022 │\n",
              "└──────────┴───────────┘\n"
            ],
            "text/html": [
              "<pre style=\"white-space:pre;overflow-x:auto;line-height:normal;font-family:Menlo,'DejaVu Sans Mono',consolas,'Courier New',monospace\">┏━━━━━━━━━━┳━━━━━━━━━━━┓\n",
              "┃<span style=\"font-weight: bold\"> Criteria </span>┃<span style=\"font-weight: bold\">   Value   </span>┃\n",
              "┡━━━━━━━━━━╇━━━━━━━━━━━┩\n",
              "│    C1    │ 1.2401742 │\n",
              "│    C2    │ 1.6525773 │\n",
              "│    C3    │ 0.8180463 │\n",
              "│    C4    │ 0.2892022 │\n",
              "└──────────┴───────────┘\n",
              "</pre>\n"
            ]
          },
          "metadata": {}
        },
        {
          "output_type": "display_data",
          "data": {
            "text/plain": [
              "                                                                                                                   \n",
              "                                                                                                                   \n",
              "                                                                                                                   \n"
            ],
            "text/html": [
              "<pre style=\"white-space:pre;overflow-x:auto;line-height:normal;font-family:Menlo,'DejaVu Sans Mono',consolas,'Courier New',monospace\">                                                                                                                   \n",
              "                                                                                                                   \n",
              "                                                                                                                   \n",
              "</pre>\n"
            ]
          },
          "metadata": {}
        },
        {
          "output_type": "display_data",
          "data": {
            "text/plain": [
              "\n",
              "Average of Normalized Matrix \u001b[1m(\u001b[0mPriority Vector \u001b[35m/\u001b[0m Criteria Weights\u001b[1m)\u001b[0m:\n",
              "\n"
            ],
            "text/html": [
              "<pre style=\"white-space:pre;overflow-x:auto;line-height:normal;font-family:Menlo,'DejaVu Sans Mono',consolas,'Courier New',monospace\">\n",
              "Average of Normalized Matrix <span style=\"font-weight: bold\">(</span>Priority Vector <span style=\"color: #800080; text-decoration-color: #800080\">/</span> Criteria Weights<span style=\"font-weight: bold\">)</span>:\n",
              "\n",
              "</pre>\n"
            ]
          },
          "metadata": {}
        },
        {
          "output_type": "display_data",
          "data": {
            "text/plain": [
              "┏━━━━━━━━━━┳━━━━━━━━━━━┓\n",
              "┃\u001b[1m \u001b[0m\u001b[1mCriteria\u001b[0m\u001b[1m \u001b[0m┃\u001b[1m \u001b[0m\u001b[1mPriority \u001b[0m\u001b[1m \u001b[0m┃\n",
              "┡━━━━━━━━━━╇━━━━━━━━━━━┩\n",
              "│    C1    │ 0.3100436 │\n",
              "│    C2    │ 0.4131443 │\n",
              "│    C3    │ 0.2045116 │\n",
              "│    C4    │ 0.0723005 │\n",
              "└──────────┴───────────┘\n"
            ],
            "text/html": [
              "<pre style=\"white-space:pre;overflow-x:auto;line-height:normal;font-family:Menlo,'DejaVu Sans Mono',consolas,'Courier New',monospace\">┏━━━━━━━━━━┳━━━━━━━━━━━┓\n",
              "┃<span style=\"font-weight: bold\"> Criteria </span>┃<span style=\"font-weight: bold\"> Priority  </span>┃\n",
              "┡━━━━━━━━━━╇━━━━━━━━━━━┩\n",
              "│    C1    │ 0.3100436 │\n",
              "│    C2    │ 0.4131443 │\n",
              "│    C3    │ 0.2045116 │\n",
              "│    C4    │ 0.0723005 │\n",
              "└──────────┴───────────┘\n",
              "</pre>\n"
            ]
          },
          "metadata": {}
        },
        {
          "output_type": "display_data",
          "data": {
            "text/plain": [
              "                                                                                                                   \n",
              "                                                                                                                   \n",
              "                                                                                                                   \n"
            ],
            "text/html": [
              "<pre style=\"white-space:pre;overflow-x:auto;line-height:normal;font-family:Menlo,'DejaVu Sans Mono',consolas,'Courier New',monospace\">                                                                                                                   \n",
              "                                                                                                                   \n",
              "                                                                                                                   \n",
              "</pre>\n"
            ]
          },
          "metadata": {}
        },
        {
          "output_type": "display_data",
          "data": {
            "text/plain": [
              "\n",
              "Calculate Matrix Product:\n",
              "\n"
            ],
            "text/html": [
              "<pre style=\"white-space:pre;overflow-x:auto;line-height:normal;font-family:Menlo,'DejaVu Sans Mono',consolas,'Courier New',monospace\">\n",
              "Calculate Matrix Product:\n",
              "\n",
              "</pre>\n"
            ]
          },
          "metadata": {}
        },
        {
          "output_type": "display_data",
          "data": {
            "text/plain": [
              "┏━━━━━━━━━━┳━━━━━━━━━━━┓\n",
              "┃\u001b[1m \u001b[0m\u001b[1mCriteria\u001b[0m\u001b[1m \u001b[0m┃\u001b[1m \u001b[0m\u001b[1m Product \u001b[0m\u001b[1m \u001b[0m┃\n",
              "┡━━━━━━━━━━╇━━━━━━━━━━━┩\n",
              "│    C1    │ 1.3491127 │\n",
              "│    C2    │ 1.9027369 │\n",
              "│    C3    │ 0.8966227 │\n",
              "│    C4    │ 0.2923625 │\n",
              "└──────────┴───────────┘\n"
            ],
            "text/html": [
              "<pre style=\"white-space:pre;overflow-x:auto;line-height:normal;font-family:Menlo,'DejaVu Sans Mono',consolas,'Courier New',monospace\">┏━━━━━━━━━━┳━━━━━━━━━━━┓\n",
              "┃<span style=\"font-weight: bold\"> Criteria </span>┃<span style=\"font-weight: bold\">  Product  </span>┃\n",
              "┡━━━━━━━━━━╇━━━━━━━━━━━┩\n",
              "│    C1    │ 1.3491127 │\n",
              "│    C2    │ 1.9027369 │\n",
              "│    C3    │ 0.8966227 │\n",
              "│    C4    │ 0.2923625 │\n",
              "└──────────┴───────────┘\n",
              "</pre>\n"
            ]
          },
          "metadata": {}
        },
        {
          "output_type": "display_data",
          "data": {
            "text/plain": [
              "                                                                                                                   \n",
              "                                                                                                                   \n",
              "                                                                                                                   \n"
            ],
            "text/html": [
              "<pre style=\"white-space:pre;overflow-x:auto;line-height:normal;font-family:Menlo,'DejaVu Sans Mono',consolas,'Courier New',monospace\">                                                                                                                   \n",
              "                                                                                                                   \n",
              "                                                                                                                   \n",
              "</pre>\n"
            ]
          },
          "metadata": {}
        },
        {
          "output_type": "display_data",
          "data": {
            "text/plain": [
              "\n",
              "Calculate Consistency Measure \u001b[1m(\u001b[0mCM\u001b[1m)\u001b[0m:\n",
              "\n"
            ],
            "text/html": [
              "<pre style=\"white-space:pre;overflow-x:auto;line-height:normal;font-family:Menlo,'DejaVu Sans Mono',consolas,'Courier New',monospace\">\n",
              "Calculate Consistency Measure <span style=\"font-weight: bold\">(</span>CM<span style=\"font-weight: bold\">)</span>:\n",
              "\n",
              "</pre>\n"
            ]
          },
          "metadata": {}
        },
        {
          "output_type": "display_data",
          "data": {
            "text/plain": [
              "┏━━━━━━━━━━┳━━━━━━━━━━━┓\n",
              "┃\u001b[1m \u001b[0m\u001b[1mCriteria\u001b[0m\u001b[1m \u001b[0m┃\u001b[1m \u001b[0m\u001b[1m   CM    \u001b[0m\u001b[1m \u001b[0m┃\n",
              "┡━━━━━━━━━━╇━━━━━━━━━━━┩\n",
              "│    C1    │ 4.351365  │\n",
              "│    C2    │ 4.6055017 │\n",
              "│    C3    │ 4.3842151 │\n",
              "│    C4    │ 4.0437111 │\n",
              "└──────────┴───────────┘\n"
            ],
            "text/html": [
              "<pre style=\"white-space:pre;overflow-x:auto;line-height:normal;font-family:Menlo,'DejaVu Sans Mono',consolas,'Courier New',monospace\">┏━━━━━━━━━━┳━━━━━━━━━━━┓\n",
              "┃<span style=\"font-weight: bold\"> Criteria </span>┃<span style=\"font-weight: bold\">    CM     </span>┃\n",
              "┡━━━━━━━━━━╇━━━━━━━━━━━┩\n",
              "│    C1    │ 4.351365  │\n",
              "│    C2    │ 4.6055017 │\n",
              "│    C3    │ 4.3842151 │\n",
              "│    C4    │ 4.0437111 │\n",
              "└──────────┴───────────┘\n",
              "</pre>\n"
            ]
          },
          "metadata": {}
        },
        {
          "output_type": "display_data",
          "data": {
            "text/plain": [
              "                                                                                                                   \n",
              "                                                                                                                   \n",
              "                                                                                                                   \n"
            ],
            "text/html": [
              "<pre style=\"white-space:pre;overflow-x:auto;line-height:normal;font-family:Menlo,'DejaVu Sans Mono',consolas,'Courier New',monospace\">                                                                                                                   \n",
              "                                                                                                                   \n",
              "                                                                                                                   \n",
              "</pre>\n"
            ]
          },
          "metadata": {}
        },
        {
          "output_type": "display_data",
          "data": {
            "text/plain": [
              "\n",
              "Average of Consistency Measure \u001b[1m(\u001b[0mLambda Max\u001b[1m)\u001b[0m:\n",
              "\n"
            ],
            "text/html": [
              "<pre style=\"white-space:pre;overflow-x:auto;line-height:normal;font-family:Menlo,'DejaVu Sans Mono',consolas,'Courier New',monospace\">\n",
              "Average of Consistency Measure <span style=\"font-weight: bold\">(</span>Lambda Max<span style=\"font-weight: bold\">)</span>:\n",
              "\n",
              "</pre>\n"
            ]
          },
          "metadata": {}
        },
        {
          "output_type": "display_data",
          "data": {
            "text/plain": [
              "\u001b[1;36m4.346198220517747\u001b[0m\n"
            ],
            "text/html": [
              "<pre style=\"white-space:pre;overflow-x:auto;line-height:normal;font-family:Menlo,'DejaVu Sans Mono',consolas,'Courier New',monospace\"><span style=\"color: #008080; text-decoration-color: #008080; font-weight: bold\">4.346198220517747</span>\n",
              "</pre>\n"
            ]
          },
          "metadata": {}
        },
        {
          "output_type": "display_data",
          "data": {
            "text/plain": [
              "                                                                                                                   \n",
              "                                                                                                                   \n",
              "                                                                                                                   \n"
            ],
            "text/html": [
              "<pre style=\"white-space:pre;overflow-x:auto;line-height:normal;font-family:Menlo,'DejaVu Sans Mono',consolas,'Courier New',monospace\">                                                                                                                   \n",
              "                                                                                                                   \n",
              "                                                                                                                   \n",
              "</pre>\n"
            ]
          },
          "metadata": {}
        },
        {
          "output_type": "display_data",
          "data": {
            "text/plain": [
              "\n",
              "Calculate Consistency Index \u001b[1m(\u001b[0mCI\u001b[1m)\u001b[0m:\n",
              "\n"
            ],
            "text/html": [
              "<pre style=\"white-space:pre;overflow-x:auto;line-height:normal;font-family:Menlo,'DejaVu Sans Mono',consolas,'Courier New',monospace\">\n",
              "Calculate Consistency Index <span style=\"font-weight: bold\">(</span>CI<span style=\"font-weight: bold\">)</span>:\n",
              "\n",
              "</pre>\n"
            ]
          },
          "metadata": {}
        },
        {
          "output_type": "display_data",
          "data": {
            "text/plain": [
              "\u001b[1;36m0.11539940683924914\u001b[0m\n"
            ],
            "text/html": [
              "<pre style=\"white-space:pre;overflow-x:auto;line-height:normal;font-family:Menlo,'DejaVu Sans Mono',consolas,'Courier New',monospace\"><span style=\"color: #008080; text-decoration-color: #008080; font-weight: bold\">0.11539940683924914</span>\n",
              "</pre>\n"
            ]
          },
          "metadata": {}
        },
        {
          "output_type": "display_data",
          "data": {
            "text/plain": [
              "                                                                                                                   \n",
              "                                                                                                                   \n",
              "                                                                                                                   \n"
            ],
            "text/html": [
              "<pre style=\"white-space:pre;overflow-x:auto;line-height:normal;font-family:Menlo,'DejaVu Sans Mono',consolas,'Courier New',monospace\">                                                                                                                   \n",
              "                                                                                                                   \n",
              "                                                                                                                   \n",
              "</pre>\n"
            ]
          },
          "metadata": {}
        },
        {
          "output_type": "display_data",
          "data": {
            "text/plain": [
              "\n",
              "Ordo Matrix Table of Ratio Index \u001b[1m(\u001b[0mRI\u001b[1m)\u001b[0m:\n",
              "\n"
            ],
            "text/html": [
              "<pre style=\"white-space:pre;overflow-x:auto;line-height:normal;font-family:Menlo,'DejaVu Sans Mono',consolas,'Courier New',monospace\">\n",
              "Ordo Matrix Table of Ratio Index <span style=\"font-weight: bold\">(</span>RI<span style=\"font-weight: bold\">)</span>:\n",
              "\n",
              "</pre>\n"
            ]
          },
          "metadata": {}
        },
        {
          "output_type": "display_data",
          "data": {
            "text/plain": [
              "┏━━━━━━┳━━━━━━━┓\n",
              "┃\u001b[1m \u001b[0m\u001b[1mOrdo\u001b[0m\u001b[1m \u001b[0m┃\u001b[1m \u001b[0m\u001b[1mRatio\u001b[0m\u001b[1m \u001b[0m┃\n",
              "┡━━━━━━╇━━━━━━━┩\n",
              "│  0   │   0   │\n",
              "│  1   │   0   │\n",
              "│  2   │ 0.58  │\n",
              "│  3   │  0.9  │\n",
              "│  4   │ 1.12  │\n",
              "│  5   │ 1.24  │\n",
              "│  6   │ 1.32  │\n",
              "│  7   │ 1.41  │\n",
              "│  8   │ 1.45  │\n",
              "│  9   │ 1.49  │\n",
              "└──────┴───────┘\n"
            ],
            "text/html": [
              "<pre style=\"white-space:pre;overflow-x:auto;line-height:normal;font-family:Menlo,'DejaVu Sans Mono',consolas,'Courier New',monospace\">┏━━━━━━┳━━━━━━━┓\n",
              "┃<span style=\"font-weight: bold\"> Ordo </span>┃<span style=\"font-weight: bold\"> Ratio </span>┃\n",
              "┡━━━━━━╇━━━━━━━┩\n",
              "│  0   │   0   │\n",
              "│  1   │   0   │\n",
              "│  2   │ 0.58  │\n",
              "│  3   │  0.9  │\n",
              "│  4   │ 1.12  │\n",
              "│  5   │ 1.24  │\n",
              "│  6   │ 1.32  │\n",
              "│  7   │ 1.41  │\n",
              "│  8   │ 1.45  │\n",
              "│  9   │ 1.49  │\n",
              "└──────┴───────┘\n",
              "</pre>\n"
            ]
          },
          "metadata": {}
        },
        {
          "output_type": "display_data",
          "data": {
            "text/plain": [
              "                                                                                                                   \n",
              "                                                                                                                   \n",
              "                                                                                                                   \n"
            ],
            "text/html": [
              "<pre style=\"white-space:pre;overflow-x:auto;line-height:normal;font-family:Menlo,'DejaVu Sans Mono',consolas,'Courier New',monospace\">                                                                                                                   \n",
              "                                                                                                                   \n",
              "                                                                                                                   \n",
              "</pre>\n"
            ]
          },
          "metadata": {}
        },
        {
          "output_type": "display_data",
          "data": {
            "text/plain": [
              "\n",
              "Calculate Ratio Index \u001b[1m(\u001b[0mRI\u001b[1m)\u001b[0m:\n",
              "\n"
            ],
            "text/html": [
              "<pre style=\"white-space:pre;overflow-x:auto;line-height:normal;font-family:Menlo,'DejaVu Sans Mono',consolas,'Courier New',monospace\">\n",
              "Calculate Ratio Index <span style=\"font-weight: bold\">(</span>RI<span style=\"font-weight: bold\">)</span>:\n",
              "\n",
              "</pre>\n"
            ]
          },
          "metadata": {}
        },
        {
          "output_type": "display_data",
          "data": {
            "text/plain": [
              "\u001b[1;36m0.9\u001b[0m\n"
            ],
            "text/html": [
              "<pre style=\"white-space:pre;overflow-x:auto;line-height:normal;font-family:Menlo,'DejaVu Sans Mono',consolas,'Courier New',monospace\"><span style=\"color: #008080; text-decoration-color: #008080; font-weight: bold\">0.9</span>\n",
              "</pre>\n"
            ]
          },
          "metadata": {}
        },
        {
          "output_type": "display_data",
          "data": {
            "text/plain": [
              "                                                                                                                   \n",
              "                                                                                                                   \n",
              "                                                                                                                   \n"
            ],
            "text/html": [
              "<pre style=\"white-space:pre;overflow-x:auto;line-height:normal;font-family:Menlo,'DejaVu Sans Mono',consolas,'Courier New',monospace\">                                                                                                                   \n",
              "                                                                                                                   \n",
              "                                                                                                                   \n",
              "</pre>\n"
            ]
          },
          "metadata": {}
        },
        {
          "output_type": "display_data",
          "data": {
            "text/plain": [
              "\n",
              "Calculate Consistency Ratio \u001b[1m(\u001b[0mCR\u001b[1m)\u001b[0m:\n",
              "\n"
            ],
            "text/html": [
              "<pre style=\"white-space:pre;overflow-x:auto;line-height:normal;font-family:Menlo,'DejaVu Sans Mono',consolas,'Courier New',monospace\">\n",
              "Calculate Consistency Ratio <span style=\"font-weight: bold\">(</span>CR<span style=\"font-weight: bold\">)</span>:\n",
              "\n",
              "</pre>\n"
            ]
          },
          "metadata": {}
        },
        {
          "output_type": "display_data",
          "data": {
            "text/plain": [
              "\u001b[1;36m0.12822156315472127\u001b[0m\n"
            ],
            "text/html": [
              "<pre style=\"white-space:pre;overflow-x:auto;line-height:normal;font-family:Menlo,'DejaVu Sans Mono',consolas,'Courier New',monospace\"><span style=\"color: #008080; text-decoration-color: #008080; font-weight: bold\">0.12822156315472127</span>\n",
              "</pre>\n"
            ]
          },
          "metadata": {}
        },
        {
          "output_type": "display_data",
          "data": {
            "text/plain": [
              "                                                                                                                   \n",
              "                                                                                                                   \n",
              "                                                                                                                   \n"
            ],
            "text/html": [
              "<pre style=\"white-space:pre;overflow-x:auto;line-height:normal;font-family:Menlo,'DejaVu Sans Mono',consolas,'Courier New',monospace\">                                                                                                                   \n",
              "                                                                                                                   \n",
              "                                                                                                                   \n",
              "</pre>\n"
            ]
          },
          "metadata": {}
        },
        {
          "output_type": "display_data",
          "data": {
            "text/plain": [
              "\n",
              "Consistency Ratio \u001b[1m(\u001b[0mCR\u001b[1m)\u001b[0m: \u001b[1;36m0.1282\u001b[0m\n",
              "\n"
            ],
            "text/html": [
              "<pre style=\"white-space:pre;overflow-x:auto;line-height:normal;font-family:Menlo,'DejaVu Sans Mono',consolas,'Courier New',monospace\">\n",
              "Consistency Ratio <span style=\"font-weight: bold\">(</span>CR<span style=\"font-weight: bold\">)</span>: <span style=\"color: #008080; text-decoration-color: #008080; font-weight: bold\">0.1282</span>\n",
              "\n",
              "</pre>\n"
            ]
          },
          "metadata": {}
        },
        {
          "output_type": "display_data",
          "data": {
            "text/plain": [
              "Warning: CR > \u001b[1;36m0.1\u001b[0m, the matrix may be inconsistent.\n"
            ],
            "text/html": [
              "<pre style=\"white-space:pre;overflow-x:auto;line-height:normal;font-family:Menlo,'DejaVu Sans Mono',consolas,'Courier New',monospace\">Warning: CR &gt; <span style=\"color: #008080; text-decoration-color: #008080; font-weight: bold\">0.1</span>, the matrix may be inconsistent.\n",
              "</pre>\n"
            ]
          },
          "metadata": {}
        },
        {
          "output_type": "display_data",
          "data": {
            "text/plain": [
              "                                                                                                                   \n",
              "                                                                                                                   \n",
              "                                                                                                                   \n"
            ],
            "text/html": [
              "<pre style=\"white-space:pre;overflow-x:auto;line-height:normal;font-family:Menlo,'DejaVu Sans Mono',consolas,'Courier New',monospace\">                                                                                                                   \n",
              "                                                                                                                   \n",
              "                                                                                                                   \n",
              "</pre>\n"
            ]
          },
          "metadata": {}
        },
        {
          "output_type": "display_data",
          "data": {
            "text/plain": [
              "\n",
              "====================================================================================================\n"
            ],
            "text/html": [
              "<pre style=\"white-space:pre;overflow-x:auto;line-height:normal;font-family:Menlo,'DejaVu Sans Mono',consolas,'Courier New',monospace\">\n",
              "====================================================================================================\n",
              "</pre>\n"
            ]
          },
          "metadata": {}
        },
        {
          "output_type": "display_data",
          "data": {
            "text/plain": [
              "Enter the number of alternatives: "
            ],
            "text/html": [
              "<pre style=\"white-space:pre;overflow-x:auto;line-height:normal;font-family:Menlo,'DejaVu Sans Mono',consolas,'Courier New',monospace\">Enter the number of alternatives: </pre>\n"
            ]
          },
          "metadata": {}
        },
        {
          "name": "stdout",
          "output_type": "stream",
          "text": [
            "3\n"
          ]
        },
        {
          "output_type": "display_data",
          "data": {
            "text/plain": [
              "                                                                                                                   \n",
              "                                                                                                                   \n",
              "                                                                                                                   \n"
            ],
            "text/html": [
              "<pre style=\"white-space:pre;overflow-x:auto;line-height:normal;font-family:Menlo,'DejaVu Sans Mono',consolas,'Courier New',monospace\">                                                                                                                   \n",
              "                                                                                                                   \n",
              "                                                                                                                   \n",
              "</pre>\n"
            ]
          },
          "metadata": {}
        },
        {
          "output_type": "display_data",
          "data": {
            "text/plain": [
              "╭─────────────────────────────────────────────────────────────────────────────────────────────────────────────────╮\n",
              "│                                                                                                                 │\n",
              "│                                                 Pairwise Matrix                                                 │\n",
              "│                                                                                                                 │\n",
              "╰─────────────────────────────────────────────────────────────────────────────────────────────────────────────────╯\n"
            ],
            "text/html": [
              "<pre style=\"white-space:pre;overflow-x:auto;line-height:normal;font-family:Menlo,'DejaVu Sans Mono',consolas,'Courier New',monospace\">╭─────────────────────────────────────────────────────────────────────────────────────────────────────────────────╮\n",
              "│                                                                                                                 │\n",
              "│                                                 Pairwise Matrix                                                 │\n",
              "│                                                                                                                 │\n",
              "╰─────────────────────────────────────────────────────────────────────────────────────────────────────────────────╯\n",
              "</pre>\n"
            ]
          },
          "metadata": {}
        },
        {
          "output_type": "display_data",
          "data": {
            "text/plain": [
              "                                                                                                                   \n",
              "                                                                                                                   \n",
              "                                                                                                                   \n"
            ],
            "text/html": [
              "<pre style=\"white-space:pre;overflow-x:auto;line-height:normal;font-family:Menlo,'DejaVu Sans Mono',consolas,'Courier New',monospace\">                                                                                                                   \n",
              "                                                                                                                   \n",
              "                                                                                                                   \n",
              "</pre>\n"
            ]
          },
          "metadata": {}
        },
        {
          "output_type": "display_data",
          "data": {
            "text/plain": [
              "\n",
              "Pairwise comparisons for alternatives under criterion \u001b[1;36m1\u001b[0m\n",
              "\n"
            ],
            "text/html": [
              "<pre style=\"white-space:pre;overflow-x:auto;line-height:normal;font-family:Menlo,'DejaVu Sans Mono',consolas,'Courier New',monospace\">\n",
              "Pairwise comparisons for alternatives under criterion <span style=\"color: #008080; text-decoration-color: #008080; font-weight: bold\">1</span>\n",
              "\n",
              "</pre>\n"
            ]
          },
          "metadata": {}
        },
        {
          "output_type": "display_data",
          "data": {
            "text/plain": [
              "\n",
              "Compare alternative 1 to 2 under criterion 1 \u001b[1;35m[1/2/3/4/5/6/7/8/9]\u001b[0m: "
            ],
            "text/html": [
              "<pre style=\"white-space:pre;overflow-x:auto;line-height:normal;font-family:Menlo,'DejaVu Sans Mono',consolas,'Courier New',monospace\">\n",
              "Compare alternative 1 to 2 under criterion 1 <span style=\"color: #800080; text-decoration-color: #800080; font-weight: bold\">[1/2/3/4/5/6/7/8/9]</span>: </pre>\n"
            ]
          },
          "metadata": {}
        },
        {
          "name": "stdout",
          "output_type": "stream",
          "text": [
            "2\n"
          ]
        },
        {
          "output_type": "display_data",
          "data": {
            "text/plain": [
              "\n",
              "Compare alternative 1 to 3 under criterion 1 \u001b[1;35m[1/2/3/4/5/6/7/8/9]\u001b[0m: "
            ],
            "text/html": [
              "<pre style=\"white-space:pre;overflow-x:auto;line-height:normal;font-family:Menlo,'DejaVu Sans Mono',consolas,'Courier New',monospace\">\n",
              "Compare alternative 1 to 3 under criterion 1 <span style=\"color: #800080; text-decoration-color: #800080; font-weight: bold\">[1/2/3/4/5/6/7/8/9]</span>: </pre>\n"
            ]
          },
          "metadata": {}
        },
        {
          "name": "stdout",
          "output_type": "stream",
          "text": [
            "3\n"
          ]
        },
        {
          "output_type": "display_data",
          "data": {
            "text/plain": [
              "\n",
              "Compare alternative 2 to 3 under criterion 1 \u001b[1;35m[1/2/3/4/5/6/7/8/9]\u001b[0m: "
            ],
            "text/html": [
              "<pre style=\"white-space:pre;overflow-x:auto;line-height:normal;font-family:Menlo,'DejaVu Sans Mono',consolas,'Courier New',monospace\">\n",
              "Compare alternative 2 to 3 under criterion 1 <span style=\"color: #800080; text-decoration-color: #800080; font-weight: bold\">[1/2/3/4/5/6/7/8/9]</span>: </pre>\n"
            ]
          },
          "metadata": {}
        },
        {
          "name": "stdout",
          "output_type": "stream",
          "text": [
            "2\n"
          ]
        },
        {
          "output_type": "display_data",
          "data": {
            "text/plain": [
              "\n",
              "Alternative Matrix for Criterion \u001b[1;36m1\u001b[0m:\n"
            ],
            "text/html": [
              "<pre style=\"white-space:pre;overflow-x:auto;line-height:normal;font-family:Menlo,'DejaVu Sans Mono',consolas,'Courier New',monospace\">\n",
              "Alternative Matrix for Criterion <span style=\"color: #008080; text-decoration-color: #008080; font-weight: bold\">1</span>:\n",
              "</pre>\n"
            ]
          },
          "metadata": {}
        },
        {
          "output_type": "display_data",
          "data": {
            "text/plain": [
              "\u001b[1m[\u001b[0m\u001b[1m[\u001b[0m\u001b[1;36m1\u001b[0m.         \u001b[1;36m2\u001b[0m.         \u001b[1;36m3\u001b[0m.        \u001b[1m]\u001b[0m\n",
              " \u001b[1m[\u001b[0m\u001b[1;36m0.5\u001b[0m        \u001b[1;36m1\u001b[0m.         \u001b[1;36m2\u001b[0m.        \u001b[1m]\u001b[0m\n",
              " \u001b[1m[\u001b[0m\u001b[1;36m0.33333333\u001b[0m \u001b[1;36m0.5\u001b[0m        \u001b[1;36m1\u001b[0m.        \u001b[1m]\u001b[0m\u001b[1m]\u001b[0m\n"
            ],
            "text/html": [
              "<pre style=\"white-space:pre;overflow-x:auto;line-height:normal;font-family:Menlo,'DejaVu Sans Mono',consolas,'Courier New',monospace\"><span style=\"font-weight: bold\">[[</span><span style=\"color: #008080; text-decoration-color: #008080; font-weight: bold\">1</span>.         <span style=\"color: #008080; text-decoration-color: #008080; font-weight: bold\">2</span>.         <span style=\"color: #008080; text-decoration-color: #008080; font-weight: bold\">3</span>.        <span style=\"font-weight: bold\">]</span>\n",
              " <span style=\"font-weight: bold\">[</span><span style=\"color: #008080; text-decoration-color: #008080; font-weight: bold\">0.5</span>        <span style=\"color: #008080; text-decoration-color: #008080; font-weight: bold\">1</span>.         <span style=\"color: #008080; text-decoration-color: #008080; font-weight: bold\">2</span>.        <span style=\"font-weight: bold\">]</span>\n",
              " <span style=\"font-weight: bold\">[</span><span style=\"color: #008080; text-decoration-color: #008080; font-weight: bold\">0.33333333</span> <span style=\"color: #008080; text-decoration-color: #008080; font-weight: bold\">0.5</span>        <span style=\"color: #008080; text-decoration-color: #008080; font-weight: bold\">1</span>.        <span style=\"font-weight: bold\">]]</span>\n",
              "</pre>\n"
            ]
          },
          "metadata": {}
        },
        {
          "output_type": "display_data",
          "data": {
            "text/plain": [
              "\n",
              "Normalized Pairwise Matrix:\n",
              "\n"
            ],
            "text/html": [
              "<pre style=\"white-space:pre;overflow-x:auto;line-height:normal;font-family:Menlo,'DejaVu Sans Mono',consolas,'Courier New',monospace\">\n",
              "Normalized Pairwise Matrix:\n",
              "\n",
              "</pre>\n"
            ]
          },
          "metadata": {}
        },
        {
          "output_type": "display_data",
          "data": {
            "text/plain": [
              "┏━━━━━━━━━━┳━━━━━━━━━━━┳━━━━━━━━━━━┳━━━━━━━━━━━┓\n",
              "┃\u001b[1m \u001b[0m\u001b[1mCriteria\u001b[0m\u001b[1m \u001b[0m┃\u001b[1m \u001b[0m\u001b[1m   C1    \u001b[0m\u001b[1m \u001b[0m┃\u001b[1m \u001b[0m\u001b[1m   C2    \u001b[0m\u001b[1m \u001b[0m┃\u001b[1m \u001b[0m\u001b[1m   C3    \u001b[0m\u001b[1m \u001b[0m┃\n",
              "┡━━━━━━━━━━╇━━━━━━━━━━━╇━━━━━━━━━━━╇━━━━━━━━━━━┩\n",
              "│    C1    │ 0.5454545 │ 0.5714286 │    0.5    │\n",
              "│    C2    │ 0.2727273 │ 0.2857143 │ 0.3333333 │\n",
              "│    C3    │ 0.1818182 │ 0.1428571 │ 0.1666667 │\n",
              "└──────────┴───────────┴───────────┴───────────┘\n"
            ],
            "text/html": [
              "<pre style=\"white-space:pre;overflow-x:auto;line-height:normal;font-family:Menlo,'DejaVu Sans Mono',consolas,'Courier New',monospace\">┏━━━━━━━━━━┳━━━━━━━━━━━┳━━━━━━━━━━━┳━━━━━━━━━━━┓\n",
              "┃<span style=\"font-weight: bold\"> Criteria </span>┃<span style=\"font-weight: bold\">    C1     </span>┃<span style=\"font-weight: bold\">    C2     </span>┃<span style=\"font-weight: bold\">    C3     </span>┃\n",
              "┡━━━━━━━━━━╇━━━━━━━━━━━╇━━━━━━━━━━━╇━━━━━━━━━━━┩\n",
              "│    C1    │ 0.5454545 │ 0.5714286 │    0.5    │\n",
              "│    C2    │ 0.2727273 │ 0.2857143 │ 0.3333333 │\n",
              "│    C3    │ 0.1818182 │ 0.1428571 │ 0.1666667 │\n",
              "└──────────┴───────────┴───────────┴───────────┘\n",
              "</pre>\n"
            ]
          },
          "metadata": {}
        },
        {
          "output_type": "display_data",
          "data": {
            "text/plain": [
              "                                                                                                                   \n",
              "                                                                                                                   \n",
              "                                                                                                                   \n"
            ],
            "text/html": [
              "<pre style=\"white-space:pre;overflow-x:auto;line-height:normal;font-family:Menlo,'DejaVu Sans Mono',consolas,'Courier New',monospace\">                                                                                                                   \n",
              "                                                                                                                   \n",
              "                                                                                                                   \n",
              "</pre>\n"
            ]
          },
          "metadata": {}
        },
        {
          "output_type": "display_data",
          "data": {
            "text/plain": [
              "\n",
              "Sum of Normalized Matrix:\n",
              "\n"
            ],
            "text/html": [
              "<pre style=\"white-space:pre;overflow-x:auto;line-height:normal;font-family:Menlo,'DejaVu Sans Mono',consolas,'Courier New',monospace\">\n",
              "Sum of Normalized Matrix:\n",
              "\n",
              "</pre>\n"
            ]
          },
          "metadata": {}
        },
        {
          "output_type": "display_data",
          "data": {
            "text/plain": [
              "┏━━━━━━━━━━┳━━━━━━━━━━━┓\n",
              "┃\u001b[1m \u001b[0m\u001b[1mCriteria\u001b[0m\u001b[1m \u001b[0m┃\u001b[1m \u001b[0m\u001b[1m  Value  \u001b[0m\u001b[1m \u001b[0m┃\n",
              "┡━━━━━━━━━━╇━━━━━━━━━━━┩\n",
              "│    C1    │ 1.6168831 │\n",
              "│    C2    │ 0.8917749 │\n",
              "│    C3    │ 0.491342  │\n",
              "└──────────┴───────────┘\n"
            ],
            "text/html": [
              "<pre style=\"white-space:pre;overflow-x:auto;line-height:normal;font-family:Menlo,'DejaVu Sans Mono',consolas,'Courier New',monospace\">┏━━━━━━━━━━┳━━━━━━━━━━━┓\n",
              "┃<span style=\"font-weight: bold\"> Criteria </span>┃<span style=\"font-weight: bold\">   Value   </span>┃\n",
              "┡━━━━━━━━━━╇━━━━━━━━━━━┩\n",
              "│    C1    │ 1.6168831 │\n",
              "│    C2    │ 0.8917749 │\n",
              "│    C3    │ 0.491342  │\n",
              "└──────────┴───────────┘\n",
              "</pre>\n"
            ]
          },
          "metadata": {}
        },
        {
          "output_type": "display_data",
          "data": {
            "text/plain": [
              "                                                                                                                   \n",
              "                                                                                                                   \n",
              "                                                                                                                   \n"
            ],
            "text/html": [
              "<pre style=\"white-space:pre;overflow-x:auto;line-height:normal;font-family:Menlo,'DejaVu Sans Mono',consolas,'Courier New',monospace\">                                                                                                                   \n",
              "                                                                                                                   \n",
              "                                                                                                                   \n",
              "</pre>\n"
            ]
          },
          "metadata": {}
        },
        {
          "output_type": "display_data",
          "data": {
            "text/plain": [
              "\n",
              "Average of Normalized Matrix \u001b[1m(\u001b[0mPriority Vector \u001b[35m/\u001b[0m Criteria Weights\u001b[1m)\u001b[0m:\n",
              "\n"
            ],
            "text/html": [
              "<pre style=\"white-space:pre;overflow-x:auto;line-height:normal;font-family:Menlo,'DejaVu Sans Mono',consolas,'Courier New',monospace\">\n",
              "Average of Normalized Matrix <span style=\"font-weight: bold\">(</span>Priority Vector <span style=\"color: #800080; text-decoration-color: #800080\">/</span> Criteria Weights<span style=\"font-weight: bold\">)</span>:\n",
              "\n",
              "</pre>\n"
            ]
          },
          "metadata": {}
        },
        {
          "output_type": "display_data",
          "data": {
            "text/plain": [
              "┏━━━━━━━━━━┳━━━━━━━━━━━┓\n",
              "┃\u001b[1m \u001b[0m\u001b[1mCriteria\u001b[0m\u001b[1m \u001b[0m┃\u001b[1m \u001b[0m\u001b[1mPriority \u001b[0m\u001b[1m \u001b[0m┃\n",
              "┡━━━━━━━━━━╇━━━━━━━━━━━┩\n",
              "│    C1    │ 0.538961  │\n",
              "│    C2    │ 0.2972583 │\n",
              "│    C3    │ 0.1637807 │\n",
              "└──────────┴───────────┘\n"
            ],
            "text/html": [
              "<pre style=\"white-space:pre;overflow-x:auto;line-height:normal;font-family:Menlo,'DejaVu Sans Mono',consolas,'Courier New',monospace\">┏━━━━━━━━━━┳━━━━━━━━━━━┓\n",
              "┃<span style=\"font-weight: bold\"> Criteria </span>┃<span style=\"font-weight: bold\"> Priority  </span>┃\n",
              "┡━━━━━━━━━━╇━━━━━━━━━━━┩\n",
              "│    C1    │ 0.538961  │\n",
              "│    C2    │ 0.2972583 │\n",
              "│    C3    │ 0.1637807 │\n",
              "└──────────┴───────────┘\n",
              "</pre>\n"
            ]
          },
          "metadata": {}
        },
        {
          "output_type": "display_data",
          "data": {
            "text/plain": [
              "                                                                                                                   \n",
              "                                                                                                                   \n",
              "                                                                                                                   \n"
            ],
            "text/html": [
              "<pre style=\"white-space:pre;overflow-x:auto;line-height:normal;font-family:Menlo,'DejaVu Sans Mono',consolas,'Courier New',monospace\">                                                                                                                   \n",
              "                                                                                                                   \n",
              "                                                                                                                   \n",
              "</pre>\n"
            ]
          },
          "metadata": {}
        },
        {
          "output_type": "display_data",
          "data": {
            "text/plain": [
              "\n",
              "Calculate Matrix Product:\n",
              "\n"
            ],
            "text/html": [
              "<pre style=\"white-space:pre;overflow-x:auto;line-height:normal;font-family:Menlo,'DejaVu Sans Mono',consolas,'Courier New',monospace\">\n",
              "Calculate Matrix Product:\n",
              "\n",
              "</pre>\n"
            ]
          },
          "metadata": {}
        },
        {
          "output_type": "display_data",
          "data": {
            "text/plain": [
              "┏━━━━━━━━━━┳━━━━━━━━━━━┓\n",
              "┃\u001b[1m \u001b[0m\u001b[1mCriteria\u001b[0m\u001b[1m \u001b[0m┃\u001b[1m \u001b[0m\u001b[1m Product \u001b[0m\u001b[1m \u001b[0m┃\n",
              "┡━━━━━━━━━━╇━━━━━━━━━━━┩\n",
              "│    C1    │ 1.6248196 │\n",
              "│    C2    │ 0.8943001 │\n",
              "│    C3    │ 0.4920635 │\n",
              "└──────────┴───────────┘\n"
            ],
            "text/html": [
              "<pre style=\"white-space:pre;overflow-x:auto;line-height:normal;font-family:Menlo,'DejaVu Sans Mono',consolas,'Courier New',monospace\">┏━━━━━━━━━━┳━━━━━━━━━━━┓\n",
              "┃<span style=\"font-weight: bold\"> Criteria </span>┃<span style=\"font-weight: bold\">  Product  </span>┃\n",
              "┡━━━━━━━━━━╇━━━━━━━━━━━┩\n",
              "│    C1    │ 1.6248196 │\n",
              "│    C2    │ 0.8943001 │\n",
              "│    C3    │ 0.4920635 │\n",
              "└──────────┴───────────┘\n",
              "</pre>\n"
            ]
          },
          "metadata": {}
        },
        {
          "output_type": "display_data",
          "data": {
            "text/plain": [
              "                                                                                                                   \n",
              "                                                                                                                   \n",
              "                                                                                                                   \n"
            ],
            "text/html": [
              "<pre style=\"white-space:pre;overflow-x:auto;line-height:normal;font-family:Menlo,'DejaVu Sans Mono',consolas,'Courier New',monospace\">                                                                                                                   \n",
              "                                                                                                                   \n",
              "                                                                                                                   \n",
              "</pre>\n"
            ]
          },
          "metadata": {}
        },
        {
          "output_type": "display_data",
          "data": {
            "text/plain": [
              "\n",
              "Calculate Consistency Measure \u001b[1m(\u001b[0mCM\u001b[1m)\u001b[0m:\n",
              "\n"
            ],
            "text/html": [
              "<pre style=\"white-space:pre;overflow-x:auto;line-height:normal;font-family:Menlo,'DejaVu Sans Mono',consolas,'Courier New',monospace\">\n",
              "Calculate Consistency Measure <span style=\"font-weight: bold\">(</span>CM<span style=\"font-weight: bold\">)</span>:\n",
              "\n",
              "</pre>\n"
            ]
          },
          "metadata": {}
        },
        {
          "output_type": "display_data",
          "data": {
            "text/plain": [
              "┏━━━━━━━━━━┳━━━━━━━━━━━┓\n",
              "┃\u001b[1m \u001b[0m\u001b[1mCriteria\u001b[0m\u001b[1m \u001b[0m┃\u001b[1m \u001b[0m\u001b[1m   CM    \u001b[0m\u001b[1m \u001b[0m┃\n",
              "┡━━━━━━━━━━╇━━━━━━━━━━━┩\n",
              "│    C1    │ 3.0147256 │\n",
              "│    C2    │ 3.0084951 │\n",
              "│    C3    │ 3.0044053 │\n",
              "└──────────┴───────────┘\n"
            ],
            "text/html": [
              "<pre style=\"white-space:pre;overflow-x:auto;line-height:normal;font-family:Menlo,'DejaVu Sans Mono',consolas,'Courier New',monospace\">┏━━━━━━━━━━┳━━━━━━━━━━━┓\n",
              "┃<span style=\"font-weight: bold\"> Criteria </span>┃<span style=\"font-weight: bold\">    CM     </span>┃\n",
              "┡━━━━━━━━━━╇━━━━━━━━━━━┩\n",
              "│    C1    │ 3.0147256 │\n",
              "│    C2    │ 3.0084951 │\n",
              "│    C3    │ 3.0044053 │\n",
              "└──────────┴───────────┘\n",
              "</pre>\n"
            ]
          },
          "metadata": {}
        },
        {
          "output_type": "display_data",
          "data": {
            "text/plain": [
              "                                                                                                                   \n",
              "                                                                                                                   \n",
              "                                                                                                                   \n"
            ],
            "text/html": [
              "<pre style=\"white-space:pre;overflow-x:auto;line-height:normal;font-family:Menlo,'DejaVu Sans Mono',consolas,'Courier New',monospace\">                                                                                                                   \n",
              "                                                                                                                   \n",
              "                                                                                                                   \n",
              "</pre>\n"
            ]
          },
          "metadata": {}
        },
        {
          "output_type": "display_data",
          "data": {
            "text/plain": [
              "\n",
              "Average of Consistency Measure \u001b[1m(\u001b[0mLambda Max\u001b[1m)\u001b[0m:\n",
              "\n"
            ],
            "text/html": [
              "<pre style=\"white-space:pre;overflow-x:auto;line-height:normal;font-family:Menlo,'DejaVu Sans Mono',consolas,'Courier New',monospace\">\n",
              "Average of Consistency Measure <span style=\"font-weight: bold\">(</span>Lambda Max<span style=\"font-weight: bold\">)</span>:\n",
              "\n",
              "</pre>\n"
            ]
          },
          "metadata": {}
        },
        {
          "output_type": "display_data",
          "data": {
            "text/plain": [
              "\u001b[1;36m3.009208666972372\u001b[0m\n"
            ],
            "text/html": [
              "<pre style=\"white-space:pre;overflow-x:auto;line-height:normal;font-family:Menlo,'DejaVu Sans Mono',consolas,'Courier New',monospace\"><span style=\"color: #008080; text-decoration-color: #008080; font-weight: bold\">3.009208666972372</span>\n",
              "</pre>\n"
            ]
          },
          "metadata": {}
        },
        {
          "output_type": "display_data",
          "data": {
            "text/plain": [
              "                                                                                                                   \n",
              "                                                                                                                   \n",
              "                                                                                                                   \n"
            ],
            "text/html": [
              "<pre style=\"white-space:pre;overflow-x:auto;line-height:normal;font-family:Menlo,'DejaVu Sans Mono',consolas,'Courier New',monospace\">                                                                                                                   \n",
              "                                                                                                                   \n",
              "                                                                                                                   \n",
              "</pre>\n"
            ]
          },
          "metadata": {}
        },
        {
          "output_type": "display_data",
          "data": {
            "text/plain": [
              "\n",
              "Calculate Consistency Index \u001b[1m(\u001b[0mCI\u001b[1m)\u001b[0m:\n",
              "\n"
            ],
            "text/html": [
              "<pre style=\"white-space:pre;overflow-x:auto;line-height:normal;font-family:Menlo,'DejaVu Sans Mono',consolas,'Courier New',monospace\">\n",
              "Calculate Consistency Index <span style=\"font-weight: bold\">(</span>CI<span style=\"font-weight: bold\">)</span>:\n",
              "\n",
              "</pre>\n"
            ]
          },
          "metadata": {}
        },
        {
          "output_type": "display_data",
          "data": {
            "text/plain": [
              "\u001b[1;36m0.004604333486186052\u001b[0m\n"
            ],
            "text/html": [
              "<pre style=\"white-space:pre;overflow-x:auto;line-height:normal;font-family:Menlo,'DejaVu Sans Mono',consolas,'Courier New',monospace\"><span style=\"color: #008080; text-decoration-color: #008080; font-weight: bold\">0.004604333486186052</span>\n",
              "</pre>\n"
            ]
          },
          "metadata": {}
        },
        {
          "output_type": "display_data",
          "data": {
            "text/plain": [
              "                                                                                                                   \n",
              "                                                                                                                   \n",
              "                                                                                                                   \n"
            ],
            "text/html": [
              "<pre style=\"white-space:pre;overflow-x:auto;line-height:normal;font-family:Menlo,'DejaVu Sans Mono',consolas,'Courier New',monospace\">                                                                                                                   \n",
              "                                                                                                                   \n",
              "                                                                                                                   \n",
              "</pre>\n"
            ]
          },
          "metadata": {}
        },
        {
          "output_type": "display_data",
          "data": {
            "text/plain": [
              "\n",
              "Ordo Matrix Table of Ratio Index \u001b[1m(\u001b[0mRI\u001b[1m)\u001b[0m:\n",
              "\n"
            ],
            "text/html": [
              "<pre style=\"white-space:pre;overflow-x:auto;line-height:normal;font-family:Menlo,'DejaVu Sans Mono',consolas,'Courier New',monospace\">\n",
              "Ordo Matrix Table of Ratio Index <span style=\"font-weight: bold\">(</span>RI<span style=\"font-weight: bold\">)</span>:\n",
              "\n",
              "</pre>\n"
            ]
          },
          "metadata": {}
        },
        {
          "output_type": "display_data",
          "data": {
            "text/plain": [
              "┏━━━━━━┳━━━━━━━┓\n",
              "┃\u001b[1m \u001b[0m\u001b[1mOrdo\u001b[0m\u001b[1m \u001b[0m┃\u001b[1m \u001b[0m\u001b[1mRatio\u001b[0m\u001b[1m \u001b[0m┃\n",
              "┡━━━━━━╇━━━━━━━┩\n",
              "│  0   │   0   │\n",
              "│  1   │   0   │\n",
              "│  2   │ 0.58  │\n",
              "│  3   │  0.9  │\n",
              "│  4   │ 1.12  │\n",
              "│  5   │ 1.24  │\n",
              "│  6   │ 1.32  │\n",
              "│  7   │ 1.41  │\n",
              "│  8   │ 1.45  │\n",
              "│  9   │ 1.49  │\n",
              "└──────┴───────┘\n"
            ],
            "text/html": [
              "<pre style=\"white-space:pre;overflow-x:auto;line-height:normal;font-family:Menlo,'DejaVu Sans Mono',consolas,'Courier New',monospace\">┏━━━━━━┳━━━━━━━┓\n",
              "┃<span style=\"font-weight: bold\"> Ordo </span>┃<span style=\"font-weight: bold\"> Ratio </span>┃\n",
              "┡━━━━━━╇━━━━━━━┩\n",
              "│  0   │   0   │\n",
              "│  1   │   0   │\n",
              "│  2   │ 0.58  │\n",
              "│  3   │  0.9  │\n",
              "│  4   │ 1.12  │\n",
              "│  5   │ 1.24  │\n",
              "│  6   │ 1.32  │\n",
              "│  7   │ 1.41  │\n",
              "│  8   │ 1.45  │\n",
              "│  9   │ 1.49  │\n",
              "└──────┴───────┘\n",
              "</pre>\n"
            ]
          },
          "metadata": {}
        },
        {
          "output_type": "display_data",
          "data": {
            "text/plain": [
              "                                                                                                                   \n",
              "                                                                                                                   \n",
              "                                                                                                                   \n"
            ],
            "text/html": [
              "<pre style=\"white-space:pre;overflow-x:auto;line-height:normal;font-family:Menlo,'DejaVu Sans Mono',consolas,'Courier New',monospace\">                                                                                                                   \n",
              "                                                                                                                   \n",
              "                                                                                                                   \n",
              "</pre>\n"
            ]
          },
          "metadata": {}
        },
        {
          "output_type": "display_data",
          "data": {
            "text/plain": [
              "\n",
              "Calculate Ratio Index \u001b[1m(\u001b[0mRI\u001b[1m)\u001b[0m:\n",
              "\n"
            ],
            "text/html": [
              "<pre style=\"white-space:pre;overflow-x:auto;line-height:normal;font-family:Menlo,'DejaVu Sans Mono',consolas,'Courier New',monospace\">\n",
              "Calculate Ratio Index <span style=\"font-weight: bold\">(</span>RI<span style=\"font-weight: bold\">)</span>:\n",
              "\n",
              "</pre>\n"
            ]
          },
          "metadata": {}
        },
        {
          "output_type": "display_data",
          "data": {
            "text/plain": [
              "\u001b[1;36m0.58\u001b[0m\n"
            ],
            "text/html": [
              "<pre style=\"white-space:pre;overflow-x:auto;line-height:normal;font-family:Menlo,'DejaVu Sans Mono',consolas,'Courier New',monospace\"><span style=\"color: #008080; text-decoration-color: #008080; font-weight: bold\">0.58</span>\n",
              "</pre>\n"
            ]
          },
          "metadata": {}
        },
        {
          "output_type": "display_data",
          "data": {
            "text/plain": [
              "                                                                                                                   \n",
              "                                                                                                                   \n",
              "                                                                                                                   \n"
            ],
            "text/html": [
              "<pre style=\"white-space:pre;overflow-x:auto;line-height:normal;font-family:Menlo,'DejaVu Sans Mono',consolas,'Courier New',monospace\">                                                                                                                   \n",
              "                                                                                                                   \n",
              "                                                                                                                   \n",
              "</pre>\n"
            ]
          },
          "metadata": {}
        },
        {
          "output_type": "display_data",
          "data": {
            "text/plain": [
              "\n",
              "Calculate Consistency Ratio \u001b[1m(\u001b[0mCR\u001b[1m)\u001b[0m:\n",
              "\n"
            ],
            "text/html": [
              "<pre style=\"white-space:pre;overflow-x:auto;line-height:normal;font-family:Menlo,'DejaVu Sans Mono',consolas,'Courier New',monospace\">\n",
              "Calculate Consistency Ratio <span style=\"font-weight: bold\">(</span>CR<span style=\"font-weight: bold\">)</span>:\n",
              "\n",
              "</pre>\n"
            ]
          },
          "metadata": {}
        },
        {
          "output_type": "display_data",
          "data": {
            "text/plain": [
              "\u001b[1;36m0.007938506010665607\u001b[0m\n"
            ],
            "text/html": [
              "<pre style=\"white-space:pre;overflow-x:auto;line-height:normal;font-family:Menlo,'DejaVu Sans Mono',consolas,'Courier New',monospace\"><span style=\"color: #008080; text-decoration-color: #008080; font-weight: bold\">0.007938506010665607</span>\n",
              "</pre>\n"
            ]
          },
          "metadata": {}
        },
        {
          "output_type": "display_data",
          "data": {
            "text/plain": [
              "                                                                                                                   \n",
              "                                                                                                                   \n",
              "                                                                                                                   \n"
            ],
            "text/html": [
              "<pre style=\"white-space:pre;overflow-x:auto;line-height:normal;font-family:Menlo,'DejaVu Sans Mono',consolas,'Courier New',monospace\">                                                                                                                   \n",
              "                                                                                                                   \n",
              "                                                                                                                   \n",
              "</pre>\n"
            ]
          },
          "metadata": {}
        },
        {
          "output_type": "display_data",
          "data": {
            "text/plain": [
              "\n",
              "Alternative Weights for Criterion \u001b[1;36m1\u001b[0m:\n"
            ],
            "text/html": [
              "<pre style=\"white-space:pre;overflow-x:auto;line-height:normal;font-family:Menlo,'DejaVu Sans Mono',consolas,'Courier New',monospace\">\n",
              "Alternative Weights for Criterion <span style=\"color: #008080; text-decoration-color: #008080; font-weight: bold\">1</span>:\n",
              "</pre>\n"
            ]
          },
          "metadata": {}
        },
        {
          "output_type": "display_data",
          "data": {
            "text/plain": [
              "Alternative \u001b[1;36m1\u001b[0m: \u001b[1;36m0.5390\u001b[0m\n"
            ],
            "text/html": [
              "<pre style=\"white-space:pre;overflow-x:auto;line-height:normal;font-family:Menlo,'DejaVu Sans Mono',consolas,'Courier New',monospace\">Alternative <span style=\"color: #008080; text-decoration-color: #008080; font-weight: bold\">1</span>: <span style=\"color: #008080; text-decoration-color: #008080; font-weight: bold\">0.5390</span>\n",
              "</pre>\n"
            ]
          },
          "metadata": {}
        },
        {
          "output_type": "display_data",
          "data": {
            "text/plain": [
              "Alternative \u001b[1;36m2\u001b[0m: \u001b[1;36m0.2973\u001b[0m\n"
            ],
            "text/html": [
              "<pre style=\"white-space:pre;overflow-x:auto;line-height:normal;font-family:Menlo,'DejaVu Sans Mono',consolas,'Courier New',monospace\">Alternative <span style=\"color: #008080; text-decoration-color: #008080; font-weight: bold\">2</span>: <span style=\"color: #008080; text-decoration-color: #008080; font-weight: bold\">0.2973</span>\n",
              "</pre>\n"
            ]
          },
          "metadata": {}
        },
        {
          "output_type": "display_data",
          "data": {
            "text/plain": [
              "Alternative \u001b[1;36m3\u001b[0m: \u001b[1;36m0.1638\u001b[0m\n"
            ],
            "text/html": [
              "<pre style=\"white-space:pre;overflow-x:auto;line-height:normal;font-family:Menlo,'DejaVu Sans Mono',consolas,'Courier New',monospace\">Alternative <span style=\"color: #008080; text-decoration-color: #008080; font-weight: bold\">3</span>: <span style=\"color: #008080; text-decoration-color: #008080; font-weight: bold\">0.1638</span>\n",
              "</pre>\n"
            ]
          },
          "metadata": {}
        },
        {
          "output_type": "display_data",
          "data": {
            "text/plain": [
              "\n",
              "Consistency Ratio \u001b[1m(\u001b[0mCR\u001b[1m)\u001b[0m: \u001b[1;36m0.0079\u001b[0m\n"
            ],
            "text/html": [
              "<pre style=\"white-space:pre;overflow-x:auto;line-height:normal;font-family:Menlo,'DejaVu Sans Mono',consolas,'Courier New',monospace\">\n",
              "Consistency Ratio <span style=\"font-weight: bold\">(</span>CR<span style=\"font-weight: bold\">)</span>: <span style=\"color: #008080; text-decoration-color: #008080; font-weight: bold\">0.0079</span>\n",
              "</pre>\n"
            ]
          },
          "metadata": {}
        },
        {
          "output_type": "display_data",
          "data": {
            "text/plain": [
              "Info: CR < \u001b[1;36m0.1\u001b[0m, the matrix is consistent.\n"
            ],
            "text/html": [
              "<pre style=\"white-space:pre;overflow-x:auto;line-height:normal;font-family:Menlo,'DejaVu Sans Mono',consolas,'Courier New',monospace\">Info: CR &lt; <span style=\"color: #008080; text-decoration-color: #008080; font-weight: bold\">0.1</span>, the matrix is consistent.\n",
              "</pre>\n"
            ]
          },
          "metadata": {}
        },
        {
          "output_type": "display_data",
          "data": {
            "text/plain": [
              "\n",
              "Pairwise comparisons for alternatives under criterion \u001b[1;36m2\u001b[0m\n",
              "\n"
            ],
            "text/html": [
              "<pre style=\"white-space:pre;overflow-x:auto;line-height:normal;font-family:Menlo,'DejaVu Sans Mono',consolas,'Courier New',monospace\">\n",
              "Pairwise comparisons for alternatives under criterion <span style=\"color: #008080; text-decoration-color: #008080; font-weight: bold\">2</span>\n",
              "\n",
              "</pre>\n"
            ]
          },
          "metadata": {}
        },
        {
          "output_type": "display_data",
          "data": {
            "text/plain": [
              "\n",
              "Compare alternative 1 to 2 under criterion 2 \u001b[1;35m[1/2/3/4/5/6/7/8/9]\u001b[0m: "
            ],
            "text/html": [
              "<pre style=\"white-space:pre;overflow-x:auto;line-height:normal;font-family:Menlo,'DejaVu Sans Mono',consolas,'Courier New',monospace\">\n",
              "Compare alternative 1 to 2 under criterion 2 <span style=\"color: #800080; text-decoration-color: #800080; font-weight: bold\">[1/2/3/4/5/6/7/8/9]</span>: </pre>\n"
            ]
          },
          "metadata": {}
        }
      ]
    }
  ],
  "metadata": {
    "colab": {
      "name": "Welcome To Colab",
      "toc_visible": true,
      "provenance": [],
      "include_colab_link": true
    },
    "kernelspec": {
      "display_name": "Python 3",
      "name": "python3"
    }
  },
  "nbformat": 4,
  "nbformat_minor": 0
}